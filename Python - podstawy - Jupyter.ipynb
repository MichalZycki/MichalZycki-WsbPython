{
 "cells": [
  {
   "cell_type": "markdown",
   "id": "ab13d6ac",
   "metadata": {},
   "source": [
    "# Python - wprowadzenie\n",
    "## 3.Podstawy python\n",
    "* **3.1 Pierwsze kroki - rozgrzewka**\n",
    "* **3.2 Zmienne**\n",
    "* **3.3 Typy danych**\n",
    "* **3.4 Intigery i Floaty**\n",
    "* **3.5 Strings**\n",
    "* **3.6 Listy**\n",
    "* **3.7 Tuple**\n",
    "* **3.8 Sety**\n",
    "* **3.9 Słowniki**\n",
    "* **3.10 Porównania i Booleany**\n",
    "* **3.11 Operatory logiczne**\n",
    "* **3.12 Instrukcje warunkowe (if, elif,else)**\n",
    "* **3.13 Pętle (while, for loops)**\n",
    "* **3.14 Funkcje własne (User defined functions)**\n",
    "* **3.15 Podstawowa obsługa błędów**"
   ]
  },
  {
   "cell_type": "markdown",
   "id": "09faf0f3",
   "metadata": {},
   "source": [
    "# ********************************************************************************************\n",
    "##  3.Podstawy python\n",
    "# ********************************************************************************************"
   ]
  },
  {
   "cell_type": "markdown",
   "id": "cdb09767",
   "metadata": {},
   "source": [
    "### **3.1 Pierwsze kroki - rozgrzewka**\n",
    "\n",
    "W tej części pierwsze interakcje z Pythonem\n",
    "Dla każdego z przykładu dodajemy 2 swoje"
   ]
  },
  {
   "cell_type": "code",
   "execution_count": 1,
   "id": "9a9c9953",
   "metadata": {},
   "outputs": [
    {
     "data": {
      "text/plain": [
       "5"
      ]
     },
     "execution_count": 1,
     "metadata": {},
     "output_type": "execute_result"
    }
   ],
   "source": [
    "5 #wyświetlmy numer"
   ]
  },
  {
   "cell_type": "code",
   "execution_count": 2,
   "id": "ba2df27d",
   "metadata": {},
   "outputs": [
    {
     "data": {
      "text/plain": [
       "2"
      ]
     },
     "execution_count": 2,
     "metadata": {},
     "output_type": "execute_result"
    }
   ],
   "source": [
    "1+1 #dodawanie"
   ]
  },
  {
   "cell_type": "code",
   "execution_count": 3,
   "id": "14994ff0",
   "metadata": {},
   "outputs": [
    {
     "data": {
      "text/plain": [
       "1"
      ]
     },
     "execution_count": 3,
     "metadata": {},
     "output_type": "execute_result"
    }
   ],
   "source": [
    "2-1 #odejmowanie"
   ]
  },
  {
   "cell_type": "code",
   "execution_count": 4,
   "id": "c3cd5114",
   "metadata": {},
   "outputs": [
    {
     "data": {
      "text/plain": [
       "120"
      ]
     },
     "execution_count": 4,
     "metadata": {},
     "output_type": "execute_result"
    }
   ],
   "source": [
    "1*120 #mnożenie"
   ]
  },
  {
   "cell_type": "code",
   "execution_count": 5,
   "id": "d9c897a2",
   "metadata": {},
   "outputs": [
    {
     "data": {
      "text/plain": [
       "19.583333333333332"
      ]
     },
     "execution_count": 5,
     "metadata": {},
     "output_type": "execute_result"
    }
   ],
   "source": [
    "235/12 #dzielenie"
   ]
  },
  {
   "cell_type": "code",
   "execution_count": 6,
   "id": "26918029",
   "metadata": {},
   "outputs": [
    {
     "data": {
      "text/plain": [
       "64"
      ]
     },
     "execution_count": 6,
     "metadata": {},
     "output_type": "execute_result"
    }
   ],
   "source": [
    "8**2 #pierwiastek"
   ]
  },
  {
   "cell_type": "code",
   "execution_count": 7,
   "id": "1bb15da9",
   "metadata": {},
   "outputs": [
    {
     "data": {
      "text/plain": [
       "int"
      ]
     },
     "execution_count": 7,
     "metadata": {},
     "output_type": "execute_result"
    }
   ],
   "source": [
    "type(5) #sprawdzanie typu"
   ]
  },
  {
   "cell_type": "code",
   "execution_count": 8,
   "id": "1b13b621",
   "metadata": {},
   "outputs": [
    {
     "data": {
      "text/plain": [
       "bool"
      ]
     },
     "execution_count": 8,
     "metadata": {},
     "output_type": "execute_result"
    }
   ],
   "source": [
    "type(True) #sprawdzanie typu 1"
   ]
  },
  {
   "cell_type": "code",
   "execution_count": 9,
   "id": "43096b42",
   "metadata": {},
   "outputs": [
    {
     "data": {
      "text/plain": [
       "str"
      ]
     },
     "execution_count": 9,
     "metadata": {},
     "output_type": "execute_result"
    }
   ],
   "source": [
    "type(\"Dom\") #sprawdzanie typu 2"
   ]
  },
  {
   "cell_type": "code",
   "execution_count": 10,
   "id": "04dcb857",
   "metadata": {},
   "outputs": [
    {
     "name": "stdout",
     "output_type": "stream",
     "text": [
      "11\n"
     ]
    }
   ],
   "source": [
    "print(1+2+3+5) #funkcja drukująca/ podglądowa"
   ]
  },
  {
   "cell_type": "code",
   "execution_count": 11,
   "id": "7ff90c80",
   "metadata": {},
   "outputs": [
    {
     "name": "stdout",
     "output_type": "stream",
     "text": [
      "Ala kupiła kota a kot był czarny\n"
     ]
    }
   ],
   "source": [
    "print(\"Ala kupiła kota a kot był czarny\") #funkcja drukująca/ podglądowa 1"
   ]
  },
  {
   "cell_type": "code",
   "execution_count": 12,
   "id": "657cf021",
   "metadata": {},
   "outputs": [
    {
     "name": "stdout",
     "output_type": "stream",
     "text": [
      "Ala kupiła kota a kot był czarny 6.056179775280899\n"
     ]
    }
   ],
   "source": [
    "print(\"Ala kupiła kota a kot był czarny\",1+2+3+5/89) #funkcja drukująca/ podglądowa 2"
   ]
  },
  {
   "cell_type": "code",
   "execution_count": 13,
   "id": "f159d2fb",
   "metadata": {},
   "outputs": [
    {
     "name": "stdout",
     "output_type": "stream",
     "text": [
      "Ala kupiła kota a kot był czarny\n",
      "6.056179775280899\n"
     ]
    }
   ],
   "source": [
    "print(\"Ala kupiła kota a kot był czarny\",1+2+3+5/89,sep='\\n') #funkcja drukująca/ podglądowa 3 z użyciem separatora lini"
   ]
  },
  {
   "cell_type": "markdown",
   "id": "3618128b",
   "metadata": {},
   "source": [
    "### **3.2 Zmienne**\n",
    "\n",
    "W tej części omówienie zmiennych "
   ]
  },
  {
   "cell_type": "code",
   "execution_count": 14,
   "id": "daba0716",
   "metadata": {},
   "outputs": [],
   "source": [
    "a = 2 #przypisanie intigera 5 do zmiennej a"
   ]
  },
  {
   "cell_type": "code",
   "execution_count": 15,
   "id": "4fd6b998",
   "metadata": {},
   "outputs": [
    {
     "name": "stdout",
     "output_type": "stream",
     "text": [
      "2\n"
     ]
    }
   ],
   "source": [
    "print(a) #podglądamy a"
   ]
  },
  {
   "cell_type": "code",
   "execution_count": 16,
   "id": "407f4852",
   "metadata": {},
   "outputs": [],
   "source": [
    "a=66 #zmianiamy/ nadpisujemy zmienną a"
   ]
  },
  {
   "cell_type": "code",
   "execution_count": 17,
   "id": "50eaac1b",
   "metadata": {},
   "outputs": [
    {
     "name": "stdout",
     "output_type": "stream",
     "text": [
      "66\n"
     ]
    }
   ],
   "source": [
    "print(a) #podglądamy a"
   ]
  },
  {
   "cell_type": "code",
   "execution_count": 18,
   "id": "9149a5a0",
   "metadata": {},
   "outputs": [],
   "source": [
    "b = 2356 #przypisanie intigera 2356 do zmiennej b"
   ]
  },
  {
   "cell_type": "code",
   "execution_count": 19,
   "id": "10d3e48f",
   "metadata": {},
   "outputs": [
    {
     "name": "stdout",
     "output_type": "stream",
     "text": [
      "2356\n"
     ]
    }
   ],
   "source": [
    "print(b) #podglądamy b"
   ]
  },
  {
   "cell_type": "code",
   "execution_count": 20,
   "id": "1361ee47",
   "metadata": {},
   "outputs": [],
   "source": [
    "b=4 #zmianiamy/ nadpisujemy zmienną b"
   ]
  },
  {
   "cell_type": "code",
   "execution_count": 21,
   "id": "49273d65",
   "metadata": {},
   "outputs": [
    {
     "name": "stdout",
     "output_type": "stream",
     "text": [
      "4\n"
     ]
    }
   ],
   "source": [
    "print(b) #podglądamy b"
   ]
  },
  {
   "cell_type": "code",
   "execution_count": 22,
   "id": "abf90543",
   "metadata": {},
   "outputs": [
    {
     "name": "stdout",
     "output_type": "stream",
     "text": [
      "66 4\n"
     ]
    }
   ],
   "source": [
    "print(a,b) #podglądamy a i b"
   ]
  },
  {
   "cell_type": "code",
   "execution_count": 23,
   "id": "42271381",
   "metadata": {},
   "outputs": [
    {
     "name": "stdout",
     "output_type": "stream",
     "text": [
      "Pies miał\n",
      "66\n",
      "łatek i\n",
      "4\n",
      "łapy\n"
     ]
    }
   ],
   "source": [
    "print(\"Pies miał\",a,\"łatek i\",b,\"łapy\",sep='\\n') #funkcja drukująca/ podglądowa 3 z użyciem separatora lini"
   ]
  },
  {
   "cell_type": "code",
   "execution_count": 24,
   "id": "e634afe9",
   "metadata": {},
   "outputs": [
    {
     "name": "stdout",
     "output_type": "stream",
     "text": [
      "70\n"
     ]
    }
   ],
   "source": [
    "print(a+b) #dodawanie zmiennych"
   ]
  },
  {
   "cell_type": "code",
   "execution_count": 25,
   "id": "68721f0b",
   "metadata": {},
   "outputs": [
    {
     "name": "stdout",
     "output_type": "stream",
     "text": [
      "62\n"
     ]
    }
   ],
   "source": [
    "print(a-b) #odejmowanie"
   ]
  },
  {
   "cell_type": "code",
   "execution_count": 26,
   "id": "1dd8c5bf",
   "metadata": {},
   "outputs": [
    {
     "name": "stdout",
     "output_type": "stream",
     "text": [
      "264\n"
     ]
    }
   ],
   "source": [
    "print(a*b) #mnożenie"
   ]
  },
  {
   "cell_type": "code",
   "execution_count": 27,
   "id": "049f01f8",
   "metadata": {},
   "outputs": [
    {
     "name": "stdout",
     "output_type": "stream",
     "text": [
      "16.5\n"
     ]
    }
   ],
   "source": [
    "print(a/b) #dzielenie"
   ]
  },
  {
   "cell_type": "code",
   "execution_count": 28,
   "id": "151ea146",
   "metadata": {},
   "outputs": [
    {
     "name": "stdout",
     "output_type": "stream",
     "text": [
      "18974736\n"
     ]
    }
   ],
   "source": [
    "print(a**b) #pierwiastek"
   ]
  },
  {
   "cell_type": "code",
   "execution_count": 29,
   "id": "13a6a0ba",
   "metadata": {},
   "outputs": [],
   "source": [
    "c= a+b #przypisywanie zmiennych do innej zmiennej"
   ]
  },
  {
   "cell_type": "code",
   "execution_count": 30,
   "id": "f9264af4",
   "metadata": {},
   "outputs": [
    {
     "name": "stdout",
     "output_type": "stream",
     "text": [
      "70\n"
     ]
    }
   ],
   "source": [
    "print(c) #podgląd zmiennej c"
   ]
  },
  {
   "cell_type": "code",
   "execution_count": 31,
   "id": "30af102a",
   "metadata": {},
   "outputs": [
    {
     "data": {
      "text/plain": [
       "int"
      ]
     },
     "execution_count": 31,
     "metadata": {},
     "output_type": "execute_result"
    }
   ],
   "source": [
    "type(a) #podgląd typu zmiennej a"
   ]
  },
  {
   "cell_type": "code",
   "execution_count": 32,
   "id": "eb7fbc0e",
   "metadata": {},
   "outputs": [],
   "source": [
    "f=\"Kalkulator\""
   ]
  },
  {
   "cell_type": "code",
   "execution_count": 33,
   "id": "5631743d",
   "metadata": {},
   "outputs": [
    {
     "name": "stdout",
     "output_type": "stream",
     "text": [
      "Kalkulator\n"
     ]
    }
   ],
   "source": [
    "print(f) #podgląd zmiennej f"
   ]
  },
  {
   "cell_type": "code",
   "execution_count": 34,
   "id": "30a661f2",
   "metadata": {},
   "outputs": [
    {
     "data": {
      "text/plain": [
       "str"
      ]
     },
     "execution_count": 34,
     "metadata": {},
     "output_type": "execute_result"
    }
   ],
   "source": [
    "type(f) #podgląd typu zmiennej f"
   ]
  },
  {
   "cell_type": "code",
   "execution_count": 35,
   "id": "78cad0c2",
   "metadata": {},
   "outputs": [],
   "source": [
    "a =1 #łańcuch przypisań zmiennych 1"
   ]
  },
  {
   "cell_type": "code",
   "execution_count": 36,
   "id": "d4df5a7d",
   "metadata": {},
   "outputs": [],
   "source": [
    "b=a #łańcuch przypisań zmiennych 2"
   ]
  },
  {
   "cell_type": "code",
   "execution_count": 37,
   "id": "3473d5e7",
   "metadata": {},
   "outputs": [],
   "source": [
    "c=b #łańcuch przypisań zmiennych 3"
   ]
  },
  {
   "cell_type": "code",
   "execution_count": 38,
   "id": "9fb0f10e",
   "metadata": {},
   "outputs": [],
   "source": [
    "d=c #łańcuch przypisań zmiennych 4"
   ]
  },
  {
   "cell_type": "code",
   "execution_count": 39,
   "id": "f9d4cb5a",
   "metadata": {},
   "outputs": [
    {
     "name": "stdout",
     "output_type": "stream",
     "text": [
      "1\n"
     ]
    }
   ],
   "source": [
    "print(d) #podgląd zmiennej d"
   ]
  },
  {
   "cell_type": "code",
   "execution_count": 40,
   "id": "4e08bf6e",
   "metadata": {},
   "outputs": [],
   "source": [
    "b=8"
   ]
  },
  {
   "cell_type": "code",
   "execution_count": 41,
   "id": "7fe74006",
   "metadata": {},
   "outputs": [
    {
     "name": "stdout",
     "output_type": "stream",
     "text": [
      "1\n"
     ]
    }
   ],
   "source": [
    "print(d) #podgląd zmiennej d"
   ]
  },
  {
   "cell_type": "code",
   "execution_count": 42,
   "id": "74750680",
   "metadata": {},
   "outputs": [
    {
     "name": "stdout",
     "output_type": "stream",
     "text": [
      "8\n"
     ]
    }
   ],
   "source": [
    "print(b) #podgląd zmiennej d"
   ]
  },
  {
   "cell_type": "markdown",
   "id": "7893a0b8",
   "metadata": {},
   "source": [
    "### **3.3 Typy danych**\n",
    "\n",
    "W tej części omówienie typów danych"
   ]
  },
  {
   "cell_type": "code",
   "execution_count": 43,
   "id": "9d9e18c0",
   "metadata": {},
   "outputs": [
    {
     "name": "stdout",
     "output_type": "stream",
     "text": [
      "<class 'str'>\n",
      "<class 'int'>\n",
      "<class 'float'>\n",
      "<class 'bool'>\n",
      "<class 'str'>\n"
     ]
    }
   ],
   "source": [
    "print(type(\"tekst\")) #przegląd typów danych\n",
    "print(type(1))\n",
    "print(type(1.0))\n",
    "print(type(True))\n",
    "print(type(\"1.0\"))"
   ]
  },
  {
   "cell_type": "code",
   "execution_count": 44,
   "id": "1f399766",
   "metadata": {},
   "outputs": [],
   "source": [
    "a=\"tekst\" #przypisanie danych do zmiennych\n",
    "b=1\n",
    "c=1.0\n",
    "d=True\n",
    "e=\"1.0\""
   ]
  },
  {
   "cell_type": "code",
   "execution_count": 45,
   "id": "8fe3fc2b",
   "metadata": {},
   "outputs": [
    {
     "name": "stdout",
     "output_type": "stream",
     "text": [
      "<class 'str'>\n",
      "<class 'int'>\n",
      "<class 'float'>\n",
      "<class 'bool'>\n",
      "<class 'str'>\n"
     ]
    }
   ],
   "source": [
    "print(type(a)) #przegląd typów danych po przypisaniu do zmiennych\n",
    "print(type(b))\n",
    "print(type(c))\n",
    "print(type(d))\n",
    "print(type(e))"
   ]
  },
  {
   "cell_type": "markdown",
   "id": "2186aba2",
   "metadata": {},
   "source": [
    "### **3.4 Intigers & Floats**\n",
    "\n",
    "W tej części omówienie Intigerów i Floatów "
   ]
  },
  {
   "cell_type": "code",
   "execution_count": 46,
   "id": "3562ebe9",
   "metadata": {},
   "outputs": [
    {
     "data": {
      "text/plain": [
       "5"
      ]
     },
     "execution_count": 46,
     "metadata": {},
     "output_type": "execute_result"
    }
   ],
   "source": [
    "5"
   ]
  },
  {
   "cell_type": "code",
   "execution_count": 47,
   "id": "9dd34b4b",
   "metadata": {},
   "outputs": [
    {
     "data": {
      "text/plain": [
       "5.0"
      ]
     },
     "execution_count": 47,
     "metadata": {},
     "output_type": "execute_result"
    }
   ],
   "source": [
    "5.0"
   ]
  },
  {
   "cell_type": "code",
   "execution_count": 48,
   "id": "f4df380c",
   "metadata": {},
   "outputs": [
    {
     "data": {
      "text/plain": [
       "25986"
      ]
     },
     "execution_count": 48,
     "metadata": {},
     "output_type": "execute_result"
    }
   ],
   "source": [
    "25986"
   ]
  },
  {
   "cell_type": "code",
   "execution_count": 49,
   "id": "7b1bb9bd",
   "metadata": {},
   "outputs": [],
   "source": [
    "a=5"
   ]
  },
  {
   "cell_type": "code",
   "execution_count": 50,
   "id": "7229c216",
   "metadata": {},
   "outputs": [],
   "source": [
    "b=25986"
   ]
  },
  {
   "cell_type": "code",
   "execution_count": 51,
   "id": "79b43ec8",
   "metadata": {},
   "outputs": [],
   "source": [
    "c=-500000"
   ]
  },
  {
   "cell_type": "code",
   "execution_count": 52,
   "id": "b77446e3",
   "metadata": {},
   "outputs": [
    {
     "name": "stdout",
     "output_type": "stream",
     "text": [
      "5 25986\n"
     ]
    }
   ],
   "source": [
    "print(a,b)"
   ]
  },
  {
   "cell_type": "code",
   "execution_count": 53,
   "id": "388dd0f5",
   "metadata": {},
   "outputs": [
    {
     "name": "stdout",
     "output_type": "stream",
     "text": [
      "<class 'int'> <class 'int'>\n"
     ]
    }
   ],
   "source": [
    "print(type(a),type(b))"
   ]
  },
  {
   "cell_type": "markdown",
   "id": "83f48055",
   "metadata": {},
   "source": [
    "### Dodawanie"
   ]
  },
  {
   "cell_type": "code",
   "execution_count": 54,
   "id": "1924d116",
   "metadata": {},
   "outputs": [
    {
     "data": {
      "text/plain": [
       "3"
      ]
     },
     "execution_count": 54,
     "metadata": {},
     "output_type": "execute_result"
    }
   ],
   "source": [
    "1+2"
   ]
  },
  {
   "cell_type": "code",
   "execution_count": 55,
   "id": "29b43814",
   "metadata": {},
   "outputs": [
    {
     "data": {
      "text/plain": [
       "258990"
      ]
     },
     "execution_count": 55,
     "metadata": {},
     "output_type": "execute_result"
    }
   ],
   "source": [
    "1+258984+a"
   ]
  },
  {
   "cell_type": "code",
   "execution_count": 56,
   "id": "c7a3a34a",
   "metadata": {},
   "outputs": [
    {
     "data": {
      "text/plain": [
       "-473984"
      ]
     },
     "execution_count": 56,
     "metadata": {},
     "output_type": "execute_result"
    }
   ],
   "source": [
    "a+a+a+a+a+a+b+c"
   ]
  },
  {
   "cell_type": "code",
   "execution_count": 57,
   "id": "48ed79b6",
   "metadata": {},
   "outputs": [
    {
     "data": {
      "text/plain": [
       "3.0"
      ]
     },
     "execution_count": 57,
     "metadata": {},
     "output_type": "execute_result"
    }
   ],
   "source": [
    "1.0+2.0"
   ]
  },
  {
   "cell_type": "markdown",
   "id": "50f81447",
   "metadata": {},
   "source": [
    "### Odejmowanie"
   ]
  },
  {
   "cell_type": "code",
   "execution_count": 58,
   "id": "82f0ecd4",
   "metadata": {},
   "outputs": [
    {
     "data": {
      "text/plain": [
       "525981"
      ]
     },
     "execution_count": 58,
     "metadata": {},
     "output_type": "execute_result"
    }
   ],
   "source": [
    "b-c-a"
   ]
  },
  {
   "cell_type": "code",
   "execution_count": 59,
   "id": "21e5ff8d",
   "metadata": {},
   "outputs": [
    {
     "data": {
      "text/plain": [
       "-474019"
      ]
     },
     "execution_count": 59,
     "metadata": {},
     "output_type": "execute_result"
    }
   ],
   "source": [
    "b+c-a"
   ]
  },
  {
   "cell_type": "code",
   "execution_count": 60,
   "id": "01dff768",
   "metadata": {},
   "outputs": [
    {
     "data": {
      "text/plain": [
       "2198"
      ]
     },
     "execution_count": 60,
     "metadata": {},
     "output_type": "execute_result"
    }
   ],
   "source": [
    "2896-698"
   ]
  },
  {
   "cell_type": "code",
   "execution_count": 61,
   "id": "bb8bcbc5",
   "metadata": {},
   "outputs": [
    {
     "data": {
      "text/plain": [
       "2198.0"
      ]
     },
     "execution_count": 61,
     "metadata": {},
     "output_type": "execute_result"
    }
   ],
   "source": [
    "2896.00-698.00"
   ]
  },
  {
   "cell_type": "markdown",
   "id": "a76c8497",
   "metadata": {},
   "source": [
    "### Mnożenie"
   ]
  },
  {
   "cell_type": "code",
   "execution_count": 62,
   "id": "231731ce",
   "metadata": {},
   "outputs": [
    {
     "data": {
      "text/plain": [
       "129930"
      ]
     },
     "execution_count": 62,
     "metadata": {},
     "output_type": "execute_result"
    }
   ],
   "source": [
    "a*b"
   ]
  },
  {
   "cell_type": "code",
   "execution_count": 63,
   "id": "c6866d07",
   "metadata": {},
   "outputs": [
    {
     "data": {
      "text/plain": [
       "-12993000000"
      ]
     },
     "execution_count": 63,
     "metadata": {},
     "output_type": "execute_result"
    }
   ],
   "source": [
    "b*c"
   ]
  },
  {
   "cell_type": "code",
   "execution_count": 64,
   "id": "86bc36b1",
   "metadata": {},
   "outputs": [],
   "source": [
    "d=a*b"
   ]
  },
  {
   "cell_type": "code",
   "execution_count": 65,
   "id": "29dbf427",
   "metadata": {},
   "outputs": [
    {
     "data": {
      "text/plain": [
       "129930"
      ]
     },
     "execution_count": 65,
     "metadata": {},
     "output_type": "execute_result"
    }
   ],
   "source": [
    "d"
   ]
  },
  {
   "cell_type": "markdown",
   "id": "e9b6d6e8",
   "metadata": {},
   "source": [
    "### Dzielenie"
   ]
  },
  {
   "cell_type": "code",
   "execution_count": 66,
   "id": "fc066b5b",
   "metadata": {},
   "outputs": [
    {
     "data": {
      "text/plain": [
       "-0.051972"
      ]
     },
     "execution_count": 66,
     "metadata": {},
     "output_type": "execute_result"
    }
   ],
   "source": [
    "b/c"
   ]
  },
  {
   "cell_type": "code",
   "execution_count": 67,
   "id": "09ada207",
   "metadata": {},
   "outputs": [
    {
     "data": {
      "text/plain": [
       "25986.0"
      ]
     },
     "execution_count": 67,
     "metadata": {},
     "output_type": "execute_result"
    }
   ],
   "source": [
    "d/a"
   ]
  },
  {
   "cell_type": "code",
   "execution_count": 68,
   "id": "050282f1",
   "metadata": {},
   "outputs": [
    {
     "name": "stdout",
     "output_type": "stream",
     "text": [
      "<class 'float'>\n",
      "<class 'float'>\n"
     ]
    }
   ],
   "source": [
    "print(type(b/c))\n",
    "print(type(d/a))"
   ]
  },
  {
   "cell_type": "code",
   "execution_count": 69,
   "id": "cb44a2ff",
   "metadata": {},
   "outputs": [
    {
     "name": "stdout",
     "output_type": "stream",
     "text": [
      "-0.05\n",
      "-0.1\n",
      "-0.0\n",
      "0\n"
     ]
    }
   ],
   "source": [
    "print(round(b/c,2))\n",
    "print(round(b/c,1))\n",
    "print(round(b/c,0))\n",
    "print(round(b/c))"
   ]
  },
  {
   "cell_type": "code",
   "execution_count": 70,
   "id": "6b3662b1",
   "metadata": {},
   "outputs": [
    {
     "name": "stdout",
     "output_type": "stream",
     "text": [
      "<class 'float'>\n",
      "<class 'float'>\n",
      "<class 'float'>\n",
      "<class 'int'>\n"
     ]
    }
   ],
   "source": [
    "print(type(round(b/c,2)))\n",
    "print(type(round(b/c,1)))\n",
    "print(type(round(b/c,0)))\n",
    "print(type(round(b/c)))"
   ]
  },
  {
   "cell_type": "code",
   "execution_count": 71,
   "id": "8e59ab06",
   "metadata": {},
   "outputs": [
    {
     "data": {
      "text/plain": [
       "4331.0"
      ]
     },
     "execution_count": 71,
     "metadata": {},
     "output_type": "execute_result"
    }
   ],
   "source": [
    "d/30"
   ]
  },
  {
   "cell_type": "code",
   "execution_count": 72,
   "id": "9bc087cf",
   "metadata": {},
   "outputs": [
    {
     "data": {
      "text/plain": [
       "1.0"
      ]
     },
     "execution_count": 72,
     "metadata": {},
     "output_type": "execute_result"
    }
   ],
   "source": [
    "a/5"
   ]
  },
  {
   "cell_type": "code",
   "execution_count": 73,
   "id": "f27b7b27",
   "metadata": {},
   "outputs": [],
   "source": [
    "f=a/b"
   ]
  },
  {
   "cell_type": "code",
   "execution_count": 74,
   "id": "d4fc9b2e",
   "metadata": {},
   "outputs": [
    {
     "data": {
      "text/plain": [
       "(7098723956634169, 36893488147419103232)"
      ]
     },
     "execution_count": 74,
     "metadata": {},
     "output_type": "execute_result"
    }
   ],
   "source": [
    "f.as_integer_ratio()"
   ]
  },
  {
   "cell_type": "code",
   "execution_count": 75,
   "id": "55807029",
   "metadata": {},
   "outputs": [
    {
     "data": {
      "text/plain": [
       "0.00019241129839144154"
      ]
     },
     "execution_count": 75,
     "metadata": {},
     "output_type": "execute_result"
    }
   ],
   "source": [
    "f"
   ]
  },
  {
   "cell_type": "markdown",
   "id": "ae37a905",
   "metadata": {},
   "source": [
    "### Jak zmieniaja się dane w zależności od operacji i typu danych Intigery i Floaty"
   ]
  },
  {
   "cell_type": "code",
   "execution_count": 76,
   "id": "06fc6f94",
   "metadata": {},
   "outputs": [],
   "source": [
    "a=66\n",
    "b=66.00\n",
    "c=82.84\n",
    "d=82\n",
    "e=a+d\n",
    "f=b+c"
   ]
  },
  {
   "cell_type": "code",
   "execution_count": 77,
   "id": "7db20eb5",
   "metadata": {},
   "outputs": [
    {
     "name": "stdout",
     "output_type": "stream",
     "text": [
      "66\n",
      "<class 'int'>\n",
      "66.0\n",
      "<class 'float'>\n",
      "82.84\n",
      "<class 'float'>\n",
      "82\n",
      "<class 'int'>\n",
      "148\n",
      "<class 'int'>\n",
      "148.84\n",
      "<class 'float'>\n"
     ]
    }
   ],
   "source": [
    "print(a)\n",
    "print(type(a))\n",
    "print(b)\n",
    "print(type(b))\n",
    "print(c)\n",
    "print(type(c))\n",
    "print(d)\n",
    "print(type(d))\n",
    "print(e)\n",
    "print(type(e))\n",
    "print(f)\n",
    "print(type(f))"
   ]
  },
  {
   "cell_type": "code",
   "execution_count": 78,
   "id": "1d37f6cf",
   "metadata": {},
   "outputs": [
    {
     "data": {
      "text/plain": [
       "int"
      ]
     },
     "execution_count": 78,
     "metadata": {},
     "output_type": "execute_result"
    }
   ],
   "source": [
    "type(a+1)"
   ]
  },
  {
   "cell_type": "code",
   "execution_count": 79,
   "id": "81d128d0",
   "metadata": {},
   "outputs": [
    {
     "data": {
      "text/plain": [
       "float"
      ]
     },
     "execution_count": 79,
     "metadata": {},
     "output_type": "execute_result"
    }
   ],
   "source": [
    "type(a+1.0)"
   ]
  },
  {
   "cell_type": "code",
   "execution_count": 80,
   "id": "a377191c",
   "metadata": {},
   "outputs": [
    {
     "data": {
      "text/plain": [
       "float"
      ]
     },
     "execution_count": 80,
     "metadata": {},
     "output_type": "execute_result"
    }
   ],
   "source": [
    "type(b)"
   ]
  },
  {
   "cell_type": "code",
   "execution_count": 81,
   "id": "a8631865",
   "metadata": {},
   "outputs": [
    {
     "data": {
      "text/plain": [
       "66"
      ]
     },
     "execution_count": 81,
     "metadata": {},
     "output_type": "execute_result"
    }
   ],
   "source": [
    "int(b)"
   ]
  },
  {
   "cell_type": "code",
   "execution_count": 82,
   "id": "18f51ca5",
   "metadata": {},
   "outputs": [],
   "source": [
    "b=int(b)"
   ]
  },
  {
   "cell_type": "code",
   "execution_count": 83,
   "id": "e03d676b",
   "metadata": {},
   "outputs": [
    {
     "data": {
      "text/plain": [
       "66"
      ]
     },
     "execution_count": 83,
     "metadata": {},
     "output_type": "execute_result"
    }
   ],
   "source": [
    "b"
   ]
  },
  {
   "cell_type": "code",
   "execution_count": 84,
   "id": "02f1d2bd",
   "metadata": {},
   "outputs": [
    {
     "data": {
      "text/plain": [
       "148.84"
      ]
     },
     "execution_count": 84,
     "metadata": {},
     "output_type": "execute_result"
    }
   ],
   "source": [
    "f"
   ]
  },
  {
   "cell_type": "code",
   "execution_count": 85,
   "id": "982c2f97",
   "metadata": {},
   "outputs": [
    {
     "data": {
      "text/plain": [
       "float"
      ]
     },
     "execution_count": 85,
     "metadata": {},
     "output_type": "execute_result"
    }
   ],
   "source": [
    "type(f)"
   ]
  },
  {
   "cell_type": "code",
   "execution_count": 86,
   "id": "afae2874",
   "metadata": {},
   "outputs": [],
   "source": [
    "f=int(f)"
   ]
  },
  {
   "cell_type": "code",
   "execution_count": 87,
   "id": "97c6a722",
   "metadata": {},
   "outputs": [
    {
     "data": {
      "text/plain": [
       "148"
      ]
     },
     "execution_count": 87,
     "metadata": {},
     "output_type": "execute_result"
    }
   ],
   "source": [
    "f"
   ]
  },
  {
   "cell_type": "code",
   "execution_count": 88,
   "id": "97a61727",
   "metadata": {},
   "outputs": [
    {
     "data": {
      "text/plain": [
       "int"
      ]
     },
     "execution_count": 88,
     "metadata": {},
     "output_type": "execute_result"
    }
   ],
   "source": [
    "type(f)"
   ]
  },
  {
   "cell_type": "markdown",
   "id": "922a49c6",
   "metadata": {},
   "source": [
    "### **3.5 Strings**\n",
    "\n",
    "W tej części omówienie Stringów"
   ]
  },
  {
   "cell_type": "code",
   "execution_count": 89,
   "id": "fa2d74c8",
   "metadata": {},
   "outputs": [
    {
     "data": {
      "text/plain": [
       "'test'"
      ]
     },
     "execution_count": 89,
     "metadata": {},
     "output_type": "execute_result"
    }
   ],
   "source": [
    "a=\"test\"\n",
    "a"
   ]
  },
  {
   "cell_type": "code",
   "execution_count": 90,
   "id": "f20e7e4d",
   "metadata": {},
   "outputs": [
    {
     "data": {
      "text/plain": [
       "str"
      ]
     },
     "execution_count": 90,
     "metadata": {},
     "output_type": "execute_result"
    }
   ],
   "source": [
    "type(a)"
   ]
  },
  {
   "cell_type": "code",
   "execution_count": 91,
   "id": "e6cdee2a",
   "metadata": {},
   "outputs": [],
   "source": [
    "b=\"Ćwiczenie\"\n",
    "c=\"Pomidor\"\n",
    "d=\"Kawa\""
   ]
  },
  {
   "cell_type": "code",
   "execution_count": 92,
   "id": "7b82ce11",
   "metadata": {},
   "outputs": [
    {
     "name": "stdout",
     "output_type": "stream",
     "text": [
      "Kawa\n",
      "<class 'str'>\n"
     ]
    }
   ],
   "source": [
    "print(d)\n",
    "print(type(d))"
   ]
  },
  {
   "cell_type": "markdown",
   "id": "69c3d5ac",
   "metadata": {},
   "source": [
    "### Łączenie tekstu"
   ]
  },
  {
   "cell_type": "code",
   "execution_count": 93,
   "id": "f5af744c",
   "metadata": {},
   "outputs": [
    {
     "data": {
      "text/plain": [
       "'testĆwiczenie'"
      ]
     },
     "execution_count": 93,
     "metadata": {},
     "output_type": "execute_result"
    }
   ],
   "source": [
    "a+b"
   ]
  },
  {
   "cell_type": "code",
   "execution_count": 94,
   "id": "68a0e8a0",
   "metadata": {},
   "outputs": [
    {
     "data": {
      "text/plain": [
       "'ĆwiczeniePomidortest'"
      ]
     },
     "execution_count": 94,
     "metadata": {},
     "output_type": "execute_result"
    }
   ],
   "source": [
    "b+c+a"
   ]
  },
  {
   "cell_type": "code",
   "execution_count": 95,
   "id": "b6735783",
   "metadata": {},
   "outputs": [
    {
     "name": "stdout",
     "output_type": "stream",
     "text": [
      "<class 'str'>\n"
     ]
    }
   ],
   "source": [
    "print(type(a+b))"
   ]
  },
  {
   "cell_type": "code",
   "execution_count": 96,
   "id": "b1ec754a",
   "metadata": {},
   "outputs": [
    {
     "name": "stdout",
     "output_type": "stream",
     "text": [
      "Pomidor i zielony ogórek to dobry zestaw do kanapki A do tego do śniadania musi być Kawa\n"
     ]
    }
   ],
   "source": [
    "print(c+\" i \"+\"zielony ogórek\"+\" \"+\"to dobry zestaw do kanapki\"+\" A do tego do śniadania musi być \"+d)"
   ]
  },
  {
   "cell_type": "code",
   "execution_count": 97,
   "id": "9fb71d40",
   "metadata": {},
   "outputs": [
    {
     "name": "stdout",
     "output_type": "stream",
     "text": [
      "Pomidor i zielony ogórek to dobry zestaw do kanapki\n",
      "A do tego do śniadania musi być Kawa\n"
     ]
    }
   ],
   "source": [
    "print(c+\" i \"+\"zielony ogórek\"+\" \"+\"to dobry zestaw do kanapki\"+\"\\nA do tego do śniadania musi być \"+d)"
   ]
  },
  {
   "cell_type": "markdown",
   "id": "2fbca282",
   "metadata": {},
   "source": [
    "### Ekstrakcja tekstu (NIE DZIAŁA!!!)"
   ]
  },
  {
   "cell_type": "code",
   "execution_count": 98,
   "id": "0ebb31da",
   "metadata": {},
   "outputs": [
    {
     "ename": "TypeError",
     "evalue": "unsupported operand type(s) for -: 'str' and 'str'",
     "output_type": "error",
     "traceback": [
      "\u001b[1;31m---------------------------------------------------------------------------\u001b[0m",
      "\u001b[1;31mTypeError\u001b[0m                                 Traceback (most recent call last)",
      "Cell \u001b[1;32mIn[98], line 1\u001b[0m\n\u001b[1;32m----> 1\u001b[0m \u001b[43mb\u001b[49m\u001b[38;5;241;43m-\u001b[39;49m\u001b[43mc\u001b[49m\n",
      "\u001b[1;31mTypeError\u001b[0m: unsupported operand type(s) for -: 'str' and 'str'"
     ]
    }
   ],
   "source": [
    "b-c"
   ]
  },
  {
   "cell_type": "code",
   "execution_count": 99,
   "id": "b3472f85",
   "metadata": {},
   "outputs": [
    {
     "ename": "TypeError",
     "evalue": "unsupported operand type(s) for -: 'str' and 'str'",
     "output_type": "error",
     "traceback": [
      "\u001b[1;31m---------------------------------------------------------------------------\u001b[0m",
      "\u001b[1;31mTypeError\u001b[0m                                 Traceback (most recent call last)",
      "Cell \u001b[1;32mIn[99], line 1\u001b[0m\n\u001b[1;32m----> 1\u001b[0m \u001b[43mc\u001b[49m\u001b[38;5;241;43m-\u001b[39;49m\u001b[43md\u001b[49m\n",
      "\u001b[1;31mTypeError\u001b[0m: unsupported operand type(s) for -: 'str' and 'str'"
     ]
    }
   ],
   "source": [
    "c-d"
   ]
  },
  {
   "cell_type": "markdown",
   "id": "c3bcf34d",
   "metadata": {},
   "source": [
    "### Replikacja tekstu"
   ]
  },
  {
   "cell_type": "code",
   "execution_count": 100,
   "id": "f3a91a00",
   "metadata": {},
   "outputs": [
    {
     "ename": "TypeError",
     "evalue": "can't multiply sequence by non-int of type 'str'",
     "output_type": "error",
     "traceback": [
      "\u001b[1;31m---------------------------------------------------------------------------\u001b[0m",
      "\u001b[1;31mTypeError\u001b[0m                                 Traceback (most recent call last)",
      "Cell \u001b[1;32mIn[100], line 1\u001b[0m\n\u001b[1;32m----> 1\u001b[0m \u001b[43mc\u001b[49m\u001b[38;5;241;43m*\u001b[39;49m\u001b[43mb\u001b[49m \u001b[38;5;66;03m#nie można mnożyć tekstu przez tekst\u001b[39;00m\n",
      "\u001b[1;31mTypeError\u001b[0m: can't multiply sequence by non-int of type 'str'"
     ]
    }
   ],
   "source": [
    "c*b #nie można mnożyć tekstu przez tekst"
   ]
  },
  {
   "cell_type": "code",
   "execution_count": 101,
   "id": "2be8b3a3",
   "metadata": {},
   "outputs": [
    {
     "data": {
      "text/plain": [
       "'PomidorPomidorPomidorPomidorPomidor'"
      ]
     },
     "execution_count": 101,
     "metadata": {},
     "output_type": "execute_result"
    }
   ],
   "source": [
    "c*5"
   ]
  },
  {
   "cell_type": "code",
   "execution_count": 102,
   "id": "7aaf1a4a",
   "metadata": {},
   "outputs": [
    {
     "data": {
      "text/plain": [
       "'KawaKawaKawaKawaKawaKawaKawaKawaKawaKawaKawaKawaKawaKawaKawaKawaKawaKawaKawaKawaKawaKawaKawaKawaKawaKawaKawaKawaKawaKawaKawaKawaKawaKawaKawaKawaKawaKawaKawaKawaKawaKawaKawaKawaKawaKawaKawaKawaKawaKawaKawaKawaKawaKawaKawaKawaKawaKawaKawaKawaKawaKawaKawaKawaKawaKawaKawaKawaKawaKawaKawaKawaKawaKawaKawaKawaKawaKawaKawaKawaKawaKawaKawaKawaKawaKawaKawaKawaKawaKawaKawaKawaKawaKawaKawaKawaKawaKawaKawaKawaKawaKawaKawaKawaKawaKawaKawaKawaKawaKawaKawaKawaKawaKawaKawaKawaKawaKawaKawaKawaKawaKawaKawaKawaKawaKawaKawaKawaKawaKawaKawaKawaKawaKawaKawaKawaKawaKawaKawaKawaKawaKawaKawaKawaKawaKawaKawaKawaKawaKawaKawaKawaKawaKawaKawaKawaKawaKawaKawaKawaKawaKawaKawaKawaKawaKawaKawaKawaKawaKawaKawaKawaKawaKawaKawaKawaKawaKawaKawaKawaKawaKawaKawaKawaKawaKawaKawaKawaKawaKawaKawaKawaKawaKawaKawaKawaKawaKawaKawaKawaKawaKawaKawaKawaKawaKawaKawaKawaKawaKawaKawaKawaKawaKawaKawaKawaKawaKawaKawaKawaKawaKawaKawaKawaKawaKawaKawaKawaKawaKawaKawaKawaKawaKawaKawaKawaKawaKawaKawaKawaKawaKawaKawaKawaKawaKawaKawaKawaKawaKawaKawaKawaKawaKawaKawaKawaKawaKawaKawaKawaKawaKawaKawaKawaKawaKawaKawaKawaKawaKawaKawaKawaKawaKawaKawaKawaKawaKawaKawaKawaKawaKawaKawaKawaKawaKawaKawaKawaKawaKawaKawaKawaKawaKawaKawaKawaKawaKawaKawaKawaKawaKawaKawaKawaKawaKawaKawaKawaKawaKawaKawaKawaKawaKawaKawaKawaKawaKawaKawaKawaKawaKawaKawaKawaKawaKawaKawaKawaKawaKawaKawaKawaKawaKawaKawaKawaKawaKawaKawaKawaKawaKawaKawaKawaKawaKawaKawaKawaKawaKawaKawaKawaKawaKawaKawaKawaKawaKawaKawaKawaKawaKawaKawaKawaKawaKawaKawaKawaKawaKawaKawaKawaKawaKawaKawaKawaKawaKawaKawaKawaKawaKawaKawaKawaKawaKawaKawaKawaKawaKawaKawaKawaKawaKawaKawaKawaKawaKawaKawaKawaKawaKawaKawaKawaKawaKawaKawaKawaKawaKawaKawaKawaKawaKawaKawaKawaKawaKawaKawaKawaKawaKawaKawaKawaKawaKawaKawaKawaKawaKawaKawaKawaKawaKawaKawaKawaKawaKawaKawaKawaKawaKawaKawaKawaKawaKawaKawaKawaKawaKawaKawaKawaKawaKawaKawaKawaKawaKawaKawaKawaKawaKawaKawaKawaKawaKawaKawaKawaKawaKawaKawaKawaKawaKawaKawaKawaKawaKawaKawaKawaKawaKawaKawaKawaKawaKawaKawaKawaKawaKawaKawaKawaKawaKawaKawaKawaKawaKawaKawaKawaKawaKawaKawaKawaKawaKawaKawaKawaKawaKawaKawaKawaKawaKawaKawaKawaKawaKawaKawaKawaKawaKawaKawaKawaKawaKawaKawaKawaKawaKawaKawaKawaKawaKawaKawaKawaKawaKawaKawaKawaKawaKawaKawaKawaKawaKawaKawaKawaKawaKawaKawaKawaKawaKawaKawa'"
      ]
     },
     "execution_count": 102,
     "metadata": {},
     "output_type": "execute_result"
    }
   ],
   "source": [
    "d*555"
   ]
  },
  {
   "cell_type": "code",
   "execution_count": 103,
   "id": "e524a81c",
   "metadata": {},
   "outputs": [
    {
     "ename": "TypeError",
     "evalue": "can't multiply sequence by non-int of type 'float'",
     "output_type": "error",
     "traceback": [
      "\u001b[1;31m---------------------------------------------------------------------------\u001b[0m",
      "\u001b[1;31mTypeError\u001b[0m                                 Traceback (most recent call last)",
      "Cell \u001b[1;32mIn[103], line 1\u001b[0m\n\u001b[1;32m----> 1\u001b[0m \u001b[43md\u001b[49m\u001b[38;5;241;43m*\u001b[39;49m\u001b[38;5;241;43m555.0\u001b[39;49m\n",
      "\u001b[1;31mTypeError\u001b[0m: can't multiply sequence by non-int of type 'float'"
     ]
    }
   ],
   "source": [
    "d*555.0"
   ]
  },
  {
   "cell_type": "markdown",
   "id": "3e74bd9a",
   "metadata": {},
   "source": [
    "### Jak zmieniaja się dane w zależności od operacji i typu danych Intigery, Floaty i Stringi"
   ]
  },
  {
   "cell_type": "code",
   "execution_count": 104,
   "id": "1a76d60f",
   "metadata": {},
   "outputs": [
    {
     "name": "stdout",
     "output_type": "stream",
     "text": [
      "8\n",
      "<class 'int'>\n",
      "Kawa\n",
      "<class 'str'>\n",
      "8.0\n",
      "<class 'float'>\n"
     ]
    }
   ],
   "source": [
    "a=8\n",
    "b=\"Kawa\"\n",
    "c=8.0\n",
    "print(a)\n",
    "print(type(a))\n",
    "print(b)\n",
    "print(type(b))\n",
    "print(c)\n",
    "print(type(c))"
   ]
  },
  {
   "cell_type": "code",
   "execution_count": 105,
   "id": "33e6c89f",
   "metadata": {},
   "outputs": [
    {
     "ename": "TypeError",
     "evalue": "unsupported operand type(s) for +: 'int' and 'str'",
     "output_type": "error",
     "traceback": [
      "\u001b[1;31m---------------------------------------------------------------------------\u001b[0m",
      "\u001b[1;31mTypeError\u001b[0m                                 Traceback (most recent call last)",
      "Cell \u001b[1;32mIn[105], line 1\u001b[0m\n\u001b[1;32m----> 1\u001b[0m \u001b[43ma\u001b[49m\u001b[38;5;241;43m+\u001b[39;49m\u001b[43mb\u001b[49m\n",
      "\u001b[1;31mTypeError\u001b[0m: unsupported operand type(s) for +: 'int' and 'str'"
     ]
    }
   ],
   "source": [
    "a+b"
   ]
  },
  {
   "cell_type": "code",
   "execution_count": 106,
   "id": "0a996757",
   "metadata": {},
   "outputs": [
    {
     "ename": "TypeError",
     "evalue": "unsupported operand type(s) for +: 'float' and 'str'",
     "output_type": "error",
     "traceback": [
      "\u001b[1;31m---------------------------------------------------------------------------\u001b[0m",
      "\u001b[1;31mTypeError\u001b[0m                                 Traceback (most recent call last)",
      "Cell \u001b[1;32mIn[106], line 1\u001b[0m\n\u001b[1;32m----> 1\u001b[0m \u001b[43mc\u001b[49m\u001b[38;5;241;43m+\u001b[39;49m\u001b[43mb\u001b[49m\n",
      "\u001b[1;31mTypeError\u001b[0m: unsupported operand type(s) for +: 'float' and 'str'"
     ]
    }
   ],
   "source": [
    "c+b"
   ]
  },
  {
   "cell_type": "code",
   "execution_count": 107,
   "id": "40b5bb27",
   "metadata": {},
   "outputs": [
    {
     "data": {
      "text/plain": [
       "'8.0'"
      ]
     },
     "execution_count": 107,
     "metadata": {},
     "output_type": "execute_result"
    }
   ],
   "source": [
    "str(c)"
   ]
  },
  {
   "cell_type": "code",
   "execution_count": 108,
   "id": "c2d4a564",
   "metadata": {},
   "outputs": [],
   "source": [
    "c=str(c)"
   ]
  },
  {
   "cell_type": "code",
   "execution_count": 109,
   "id": "3e73cc16",
   "metadata": {},
   "outputs": [
    {
     "data": {
      "text/plain": [
       "'8.0Kawa'"
      ]
     },
     "execution_count": 109,
     "metadata": {},
     "output_type": "execute_result"
    }
   ],
   "source": [
    "c+b"
   ]
  },
  {
   "cell_type": "code",
   "execution_count": 110,
   "id": "d0025730",
   "metadata": {},
   "outputs": [
    {
     "data": {
      "text/plain": [
       "'KawaKawaKawaKawaKawaKawaKawaKawa'"
      ]
     },
     "execution_count": 110,
     "metadata": {},
     "output_type": "execute_result"
    }
   ],
   "source": [
    "a*b"
   ]
  },
  {
   "cell_type": "code",
   "execution_count": 111,
   "id": "3936d911",
   "metadata": {},
   "outputs": [
    {
     "ename": "TypeError",
     "evalue": "can't multiply sequence by non-int of type 'str'",
     "output_type": "error",
     "traceback": [
      "\u001b[1;31m---------------------------------------------------------------------------\u001b[0m",
      "\u001b[1;31mTypeError\u001b[0m                                 Traceback (most recent call last)",
      "Cell \u001b[1;32mIn[111], line 1\u001b[0m\n\u001b[1;32m----> 1\u001b[0m \u001b[43mc\u001b[49m\u001b[38;5;241;43m*\u001b[39;49m\u001b[43mb\u001b[49m\n",
      "\u001b[1;31mTypeError\u001b[0m: can't multiply sequence by non-int of type 'str'"
     ]
    }
   ],
   "source": [
    "c*b"
   ]
  },
  {
   "cell_type": "code",
   "execution_count": 112,
   "id": "de3b9f37",
   "metadata": {},
   "outputs": [
    {
     "ename": "TypeError",
     "evalue": "unsupported operand type(s) for +: 'int' and 'str'",
     "output_type": "error",
     "traceback": [
      "\u001b[1;31m---------------------------------------------------------------------------\u001b[0m",
      "\u001b[1;31mTypeError\u001b[0m                                 Traceback (most recent call last)",
      "Cell \u001b[1;32mIn[112], line 1\u001b[0m\n\u001b[1;32m----> 1\u001b[0m \u001b[43ma\u001b[49m\u001b[38;5;241;43m+\u001b[39;49m\u001b[43mb\u001b[49m\n",
      "\u001b[1;31mTypeError\u001b[0m: unsupported operand type(s) for +: 'int' and 'str'"
     ]
    }
   ],
   "source": [
    "a+b"
   ]
  },
  {
   "cell_type": "code",
   "execution_count": 113,
   "id": "43ce1222",
   "metadata": {},
   "outputs": [],
   "source": [
    "a=str(a)"
   ]
  },
  {
   "cell_type": "code",
   "execution_count": 114,
   "id": "b9dca9f6",
   "metadata": {},
   "outputs": [
    {
     "data": {
      "text/plain": [
       "'8Kawa'"
      ]
     },
     "execution_count": 114,
     "metadata": {},
     "output_type": "execute_result"
    }
   ],
   "source": [
    "a+b"
   ]
  },
  {
   "cell_type": "code",
   "execution_count": 115,
   "id": "26df80e6",
   "metadata": {},
   "outputs": [
    {
     "data": {
      "text/plain": [
       "'88.0'"
      ]
     },
     "execution_count": 115,
     "metadata": {},
     "output_type": "execute_result"
    }
   ],
   "source": [
    "a+c"
   ]
  },
  {
   "cell_type": "markdown",
   "id": "a721b46b",
   "metadata": {},
   "source": [
    "### **3.6 Listy**\n",
    "\n",
    "W tej części omówienie List\n",
    "Listy mogą składać się z:\n",
    "- floatów\n",
    "- stringów\n",
    "- intigerów\n",
    "- Booleanów\n",
    "\n",
    "Listy deklarujemy poprzez nawiasy kwadratowe, możemy dokonywać na nich różnych operacji oraz pobierać konkretne elementy z listy."
   ]
  },
  {
   "cell_type": "code",
   "execution_count": 171,
   "id": "81c9ebc9",
   "metadata": {},
   "outputs": [],
   "source": [
    "lista1=[1,2,3,4]"
   ]
  },
  {
   "cell_type": "code",
   "execution_count": 172,
   "id": "db61e0ca",
   "metadata": {},
   "outputs": [
    {
     "data": {
      "text/plain": [
       "[1, 2, 3, 4]"
      ]
     },
     "execution_count": 172,
     "metadata": {},
     "output_type": "execute_result"
    }
   ],
   "source": [
    "lista1"
   ]
  },
  {
   "cell_type": "code",
   "execution_count": 173,
   "id": "394f481a",
   "metadata": {},
   "outputs": [],
   "source": [
    "lista2=[1,2,True,\"string\",1.0]"
   ]
  },
  {
   "cell_type": "code",
   "execution_count": 174,
   "id": "b0fc4f9c",
   "metadata": {},
   "outputs": [
    {
     "data": {
      "text/plain": [
       "[1, 2, True, 'string', 1.0]"
      ]
     },
     "execution_count": 174,
     "metadata": {},
     "output_type": "execute_result"
    }
   ],
   "source": [
    "lista2"
   ]
  },
  {
   "cell_type": "code",
   "execution_count": 175,
   "id": "4071c960",
   "metadata": {},
   "outputs": [
    {
     "data": {
      "text/plain": [
       "list"
      ]
     },
     "execution_count": 175,
     "metadata": {},
     "output_type": "execute_result"
    }
   ],
   "source": [
    "type(lista1)"
   ]
  },
  {
   "cell_type": "code",
   "execution_count": 176,
   "id": "308f35ac",
   "metadata": {},
   "outputs": [
    {
     "data": {
      "text/plain": [
       "5"
      ]
     },
     "execution_count": 176,
     "metadata": {},
     "output_type": "execute_result"
    }
   ],
   "source": [
    "len(lista2) #zliczanie elementów listy"
   ]
  },
  {
   "cell_type": "markdown",
   "id": "d0f5ec1c",
   "metadata": {},
   "source": [
    " ### Działania na listach\n",
    " Na listach działaja takie same operacje jak w przypadku stringów, floatów etc\n",
    " ,aczkolwiek występują pewne ograniczenia\n",
    " - brak możliwości łączenia tekstu\n",
    " - brak możliwości ekstrakcji\n",
    " \n",
    " Poza tym listy można:\n",
    " - łączyć\n",
    " - sortować\n",
    " - odwracać\n",
    " - usuwać konkretne elementy z list"
   ]
  },
  {
   "cell_type": "code",
   "execution_count": 177,
   "id": "cc736b62",
   "metadata": {},
   "outputs": [
    {
     "data": {
      "text/plain": [
       "10"
      ]
     },
     "execution_count": 177,
     "metadata": {},
     "output_type": "execute_result"
    }
   ],
   "source": [
    "sum(lista1)"
   ]
  },
  {
   "cell_type": "code",
   "execution_count": 178,
   "id": "599f627a",
   "metadata": {},
   "outputs": [
    {
     "data": {
      "text/plain": [
       "[1, 2, 3, 4, 1, 2, 3, 4]"
      ]
     },
     "execution_count": 178,
     "metadata": {},
     "output_type": "execute_result"
    }
   ],
   "source": [
    "2*lista1"
   ]
  },
  {
   "cell_type": "code",
   "execution_count": 179,
   "id": "2365b854",
   "metadata": {},
   "outputs": [
    {
     "ename": "TypeError",
     "evalue": "unsupported operand type(s) for +: 'int' and 'str'",
     "output_type": "error",
     "traceback": [
      "\u001b[1;31m---------------------------------------------------------------------------\u001b[0m",
      "\u001b[1;31mTypeError\u001b[0m                                 Traceback (most recent call last)",
      "Cell \u001b[1;32mIn[179], line 1\u001b[0m\n\u001b[1;32m----> 1\u001b[0m \u001b[38;5;28;43msum\u001b[39;49m\u001b[43m(\u001b[49m\u001b[43mlista2\u001b[49m\u001b[43m)\u001b[49m\n",
      "\u001b[1;31mTypeError\u001b[0m: unsupported operand type(s) for +: 'int' and 'str'"
     ]
    }
   ],
   "source": [
    "sum(lista2)"
   ]
  },
  {
   "cell_type": "code",
   "execution_count": 180,
   "id": "6ffed735",
   "metadata": {},
   "outputs": [
    {
     "data": {
      "text/plain": [
       "[1, 2, 3, 4, 1, 2, 3, 4]"
      ]
     },
     "execution_count": 180,
     "metadata": {},
     "output_type": "execute_result"
    }
   ],
   "source": [
    "2*lista1"
   ]
  },
  {
   "cell_type": "code",
   "execution_count": 181,
   "id": "1fdce018",
   "metadata": {},
   "outputs": [],
   "source": [
    "l1 = lista1\n",
    "l2 = lista2\n",
    "l3 = [\"a\",\"b\",\"dfg\"]"
   ]
  },
  {
   "cell_type": "code",
   "execution_count": 182,
   "id": "59390abd",
   "metadata": {},
   "outputs": [
    {
     "data": {
      "text/plain": [
       "[1, 2, 3, 4, 1, 2, True, 'string', 1.0]"
      ]
     },
     "execution_count": 182,
     "metadata": {},
     "output_type": "execute_result"
    }
   ],
   "source": [
    "l1+l2 # to jest łączenie list a nie \"zwyczajowe sumowanie\""
   ]
  },
  {
   "cell_type": "code",
   "execution_count": 183,
   "id": "02836986",
   "metadata": {},
   "outputs": [
    {
     "data": {
      "text/plain": [
       "[1, 2, 3, 4, 1, 2, True, 'string', 1.0, 'a', 'b', 'dfg', 'c', 'd', 'op']"
      ]
     },
     "execution_count": 183,
     "metadata": {},
     "output_type": "execute_result"
    }
   ],
   "source": [
    "l1+l2+l3+[\"c\",\"d\",\"op\"]"
   ]
  },
  {
   "cell_type": "code",
   "execution_count": 184,
   "id": "36ddea33",
   "metadata": {},
   "outputs": [
    {
     "ename": "TypeError",
     "evalue": "unsupported operand type(s) for +: 'int' and 'str'",
     "output_type": "error",
     "traceback": [
      "\u001b[1;31m---------------------------------------------------------------------------\u001b[0m",
      "\u001b[1;31mTypeError\u001b[0m                                 Traceback (most recent call last)",
      "Cell \u001b[1;32mIn[184], line 1\u001b[0m\n\u001b[1;32m----> 1\u001b[0m \u001b[38;5;28;43msum\u001b[39;49m\u001b[43m(\u001b[49m\u001b[43ml3\u001b[49m\u001b[43m)\u001b[49m\u001b[38;5;66;03m# to jest sumowanie listy na wartościah tekstowych które nie działa\u001b[39;00m\n",
      "\u001b[1;31mTypeError\u001b[0m: unsupported operand type(s) for +: 'int' and 'str'"
     ]
    }
   ],
   "source": [
    "sum(l3)# to jest sumowanie listy na wartościah tekstowych które nie działa"
   ]
  },
  {
   "cell_type": "markdown",
   "id": "bcb9e39b",
   "metadata": {},
   "source": [
    "### Wbudowane metody (działania) na listach"
   ]
  },
  {
   "cell_type": "code",
   "execution_count": 185,
   "id": "3eb9c308",
   "metadata": {},
   "outputs": [],
   "source": [
    "l99=9999\n",
    "l1.append(l99) # dodanie elementu do listy"
   ]
  },
  {
   "cell_type": "code",
   "execution_count": 186,
   "id": "43d1ffc0",
   "metadata": {},
   "outputs": [
    {
     "data": {
      "text/plain": [
       "[1, 2, 3, 4, 9999]"
      ]
     },
     "execution_count": 186,
     "metadata": {},
     "output_type": "execute_result"
    }
   ],
   "source": [
    "l1"
   ]
  },
  {
   "cell_type": "code",
   "execution_count": 187,
   "id": "352e013c",
   "metadata": {},
   "outputs": [],
   "source": [
    "l999=[101,102,103]\n",
    "l1.extend(l999) # dodanie sekwencji - zbioru elementow"
   ]
  },
  {
   "cell_type": "code",
   "execution_count": 188,
   "id": "0d99d014",
   "metadata": {},
   "outputs": [
    {
     "data": {
      "text/plain": [
       "[1, 2, 3, 4, 9999, 101, 102, 103]"
      ]
     },
     "execution_count": 188,
     "metadata": {},
     "output_type": "execute_result"
    }
   ],
   "source": [
    "l1"
   ]
  },
  {
   "cell_type": "code",
   "execution_count": 189,
   "id": "e0fa7cdb",
   "metadata": {},
   "outputs": [
    {
     "ename": "TypeError",
     "evalue": "can only concatenate list (not \"int\") to list",
     "output_type": "error",
     "traceback": [
      "\u001b[1;31m---------------------------------------------------------------------------\u001b[0m",
      "\u001b[1;31mTypeError\u001b[0m                                 Traceback (most recent call last)",
      "Cell \u001b[1;32mIn[189], line 1\u001b[0m\n\u001b[1;32m----> 1\u001b[0m \u001b[43ml1\u001b[49m\u001b[38;5;241;43m+\u001b[39;49m\u001b[38;5;241;43m2\u001b[39;49m \u001b[38;5;66;03m# bezpośrednie dodanie elementu do listy nie jest możliwe w taki sposób\u001b[39;00m\n",
      "\u001b[1;31mTypeError\u001b[0m: can only concatenate list (not \"int\") to list"
     ]
    }
   ],
   "source": [
    "l1+2 # bezpośrednie dodanie elementu do listy nie jest możliwe w taki sposób"
   ]
  },
  {
   "cell_type": "code",
   "execution_count": 190,
   "id": "7ec87e9e",
   "metadata": {},
   "outputs": [
    {
     "name": "stdout",
     "output_type": "stream",
     "text": [
      "[1, 2, 3, 5, 4, 9999, 101, 102, 103]\n"
     ]
    }
   ],
   "source": [
    "l1.insert(3,5) # dodanie elementu do listy na pozycji indexu (x-wartosc indexu,y-wartość dodawana do listy)\n",
    "print(l1)"
   ]
  },
  {
   "cell_type": "code",
   "execution_count": 191,
   "id": "7b570cd4",
   "metadata": {},
   "outputs": [
    {
     "name": "stdout",
     "output_type": "stream",
     "text": [
      "[1, 2, 3, 5, 4, 9999, 101, 102, 103, 'v', 't']\n"
     ]
    }
   ],
   "source": [
    "l11=[\"v\",\"t\"]\n",
    "l1.extend(l11)\n",
    "print(l1)"
   ]
  },
  {
   "cell_type": "code",
   "execution_count": 192,
   "id": "8e44d1a4",
   "metadata": {},
   "outputs": [
    {
     "data": {
      "text/plain": [
       "[1, 2, 5, 4, 9999, 101, 102, 103, 'v', 't']"
      ]
     },
     "execution_count": 192,
     "metadata": {},
     "output_type": "execute_result"
    }
   ],
   "source": [
    "l1.pop(2) #usuwanie elementu z listy wg pozycji indexu\n",
    "l1"
   ]
  },
  {
   "cell_type": "code",
   "execution_count": 193,
   "id": "e4901804",
   "metadata": {},
   "outputs": [
    {
     "data": {
      "text/plain": [
       "[1, 2, 5, 4, 9999, 101, 102, 103, 't']"
      ]
     },
     "execution_count": 193,
     "metadata": {},
     "output_type": "execute_result"
    }
   ],
   "source": [
    "l1.remove(\"v\") #usuwanie elementu z listy wg wartości\n",
    "l1"
   ]
  },
  {
   "cell_type": "code",
   "execution_count": 194,
   "id": "d19646b5",
   "metadata": {},
   "outputs": [
    {
     "data": {
      "text/plain": [
       "[1, 2, 5, 4, 9999, 101, 102, 103]"
      ]
     },
     "execution_count": 194,
     "metadata": {},
     "output_type": "execute_result"
    }
   ],
   "source": [
    "l1.remove(\"t\") #usuwanie elementu z listy wg wartości\n",
    "l1"
   ]
  },
  {
   "cell_type": "code",
   "execution_count": 195,
   "id": "18ff35d1",
   "metadata": {},
   "outputs": [
    {
     "data": {
      "text/plain": [
       "[103, 102, 101, 9999, 4, 5, 2, 1]"
      ]
     },
     "execution_count": 195,
     "metadata": {},
     "output_type": "execute_result"
    }
   ],
   "source": [
    "l1.reverse() #odwracanie listy\n",
    "l1"
   ]
  },
  {
   "cell_type": "code",
   "execution_count": 196,
   "id": "306a8bba",
   "metadata": {},
   "outputs": [
    {
     "data": {
      "text/plain": [
       "[1, 2, 4, 5, 101, 102, 103, 9999]"
      ]
     },
     "execution_count": 196,
     "metadata": {},
     "output_type": "execute_result"
    }
   ],
   "source": [
    "l1.sort() #sortowanie list\n",
    "l1"
   ]
  },
  {
   "cell_type": "code",
   "execution_count": 197,
   "id": "d5299b7f",
   "metadata": {},
   "outputs": [
    {
     "data": {
      "text/plain": [
       "[9999, 103, 102, 101, 5, 4, 2, 1]"
      ]
     },
     "execution_count": 197,
     "metadata": {},
     "output_type": "execute_result"
    }
   ],
   "source": [
    "l1.sort(reverse=True)# sortowanie od największej do najmniejszej\n",
    "l1"
   ]
  },
  {
   "cell_type": "code",
   "execution_count": 198,
   "id": "0eb79b8e",
   "metadata": {},
   "outputs": [
    {
     "data": {
      "text/plain": [
       "[1, 2, 4, 5, 101, 102, 103, 9999]"
      ]
     },
     "execution_count": 198,
     "metadata": {},
     "output_type": "execute_result"
    }
   ],
   "source": [
    "l1.sort(reverse=False)\n",
    "l1"
   ]
  },
  {
   "cell_type": "markdown",
   "id": "7e00fa5f",
   "metadata": {},
   "source": [
    "### Wybieranie elementów z list\n",
    "W pythonie początek listy a także czegokolwiek co może być policzalne wg domyślnej numeracji równy jest 0 a nie 1\n",
    "\n",
    "Można także wybierać elementy z listy lub czegokolwiek wg domyślnej numeracji od końca np. -1 będzie oznaczać ostatni element z listy\n",
    "\n",
    "Można także wybierać elementy całymi grupami lub w interwałach\n",
    "za to odpowiada zapis lista[x1,x2,x3]\n",
    "- x1 - wartość początowa\n",
    "- x2 - wartość końcowa (UWAGA wartość końcowa nie jest uwzględniana w przedziale)\n",
    "- x3 - interwał"
   ]
  },
  {
   "cell_type": "code",
   "execution_count": 199,
   "id": "b7577463",
   "metadata": {},
   "outputs": [],
   "source": [
    "l5 = [1,2,3,4,1.89]"
   ]
  },
  {
   "cell_type": "code",
   "execution_count": 200,
   "id": "3256017e",
   "metadata": {},
   "outputs": [
    {
     "data": {
      "text/plain": [
       "2"
      ]
     },
     "execution_count": 200,
     "metadata": {},
     "output_type": "execute_result"
    }
   ],
   "source": [
    "l5[1] #czy to jest pierwszy element z listy? "
   ]
  },
  {
   "cell_type": "code",
   "execution_count": 201,
   "id": "d98b42b6",
   "metadata": {},
   "outputs": [
    {
     "data": {
      "text/plain": [
       "1"
      ]
     },
     "execution_count": 201,
     "metadata": {},
     "output_type": "execute_result"
    }
   ],
   "source": [
    "l5[0] #czy to jest pierwszy element z listy? "
   ]
  },
  {
   "cell_type": "code",
   "execution_count": 202,
   "id": "465c9e9b",
   "metadata": {},
   "outputs": [
    {
     "name": "stdout",
     "output_type": "stream",
     "text": [
      "1\n",
      "2\n",
      "3\n",
      "4\n",
      "1.89\n"
     ]
    }
   ],
   "source": [
    "print(l5[0])\n",
    "print(l5[1])\n",
    "print(l5[2])\n",
    "print(l5[3])\n",
    "print(l5[4])"
   ]
  },
  {
   "cell_type": "code",
   "execution_count": 203,
   "id": "dd0c1e6c",
   "metadata": {},
   "outputs": [
    {
     "data": {
      "text/plain": [
       "1.89"
      ]
     },
     "execution_count": 203,
     "metadata": {},
     "output_type": "execute_result"
    }
   ],
   "source": [
    "l5[-1]"
   ]
  },
  {
   "cell_type": "code",
   "execution_count": 204,
   "id": "542661e9",
   "metadata": {},
   "outputs": [
    {
     "data": {
      "text/plain": [
       "1.89"
      ]
     },
     "execution_count": 204,
     "metadata": {},
     "output_type": "execute_result"
    }
   ],
   "source": [
    "l5[4]"
   ]
  },
  {
   "cell_type": "code",
   "execution_count": 205,
   "id": "ecf177ba",
   "metadata": {},
   "outputs": [
    {
     "name": "stdout",
     "output_type": "stream",
     "text": [
      "4\n",
      "4\n"
     ]
    }
   ],
   "source": [
    "print(l5[-2])\n",
    "print(l5[3])"
   ]
  },
  {
   "cell_type": "code",
   "execution_count": 206,
   "id": "5fbbcff7",
   "metadata": {},
   "outputs": [],
   "source": [
    "l6=[1,2,6,99,88.00,66.89,\"True\",\"False\",True,False]"
   ]
  },
  {
   "cell_type": "code",
   "execution_count": 207,
   "id": "af1cc6d4",
   "metadata": {},
   "outputs": [
    {
     "data": {
      "text/plain": [
       "[1, 2, 6, 99, 88.0, 66.89, 'True', 'False', True, False]"
      ]
     },
     "execution_count": 207,
     "metadata": {},
     "output_type": "execute_result"
    }
   ],
   "source": [
    "l6"
   ]
  },
  {
   "cell_type": "code",
   "execution_count": 208,
   "id": "1fa6303d",
   "metadata": {},
   "outputs": [
    {
     "data": {
      "text/plain": [
       "[1, 2, 6, 99, 88.0, 66.89, 'True', 'False', True, False]"
      ]
     },
     "execution_count": 208,
     "metadata": {},
     "output_type": "execute_result"
    }
   ],
   "source": [
    "l6[:] #wszystkie elementy z listy"
   ]
  },
  {
   "cell_type": "code",
   "execution_count": 209,
   "id": "a7ddf0d5",
   "metadata": {},
   "outputs": [
    {
     "data": {
      "text/plain": [
       "[1, 2, 6, 99, 88.0, 66.89, 'True', 'False', True, False]"
      ]
     },
     "execution_count": 209,
     "metadata": {},
     "output_type": "execute_result"
    }
   ],
   "source": [
    "l6[0:99]#wszystkie elementy z listy"
   ]
  },
  {
   "cell_type": "code",
   "execution_count": 210,
   "id": "66e0712f",
   "metadata": {},
   "outputs": [
    {
     "data": {
      "text/plain": [
       "[1, 2]"
      ]
     },
     "execution_count": 210,
     "metadata": {},
     "output_type": "execute_result"
    }
   ],
   "source": [
    "l6[0:2] #wybieramy zakres od pierwszego do 3 elementu (zakres końcowy nie będzie uwzględniony), zobaczymy tylko 2 elementy"
   ]
  },
  {
   "cell_type": "code",
   "execution_count": 211,
   "id": "9321512f",
   "metadata": {},
   "outputs": [
    {
     "data": {
      "text/plain": [
       "[]"
      ]
     },
     "execution_count": 211,
     "metadata": {},
     "output_type": "execute_result"
    }
   ],
   "source": [
    "l6[2:0] #błędnie logiczny zapis "
   ]
  },
  {
   "cell_type": "code",
   "execution_count": 212,
   "id": "1b9799db",
   "metadata": {},
   "outputs": [
    {
     "data": {
      "text/plain": [
       "[66.89, 'True', 'False', True]"
      ]
     },
     "execution_count": 212,
     "metadata": {},
     "output_type": "execute_result"
    }
   ],
   "source": [
    "l6[-5:-1] "
   ]
  },
  {
   "cell_type": "code",
   "execution_count": 213,
   "id": "6df1919b",
   "metadata": {},
   "outputs": [
    {
     "data": {
      "text/plain": [
       "[]"
      ]
     },
     "execution_count": 213,
     "metadata": {},
     "output_type": "execute_result"
    }
   ],
   "source": [
    "l6[-1:-5] #błędnie logiczny zapis"
   ]
  },
  {
   "cell_type": "code",
   "execution_count": 214,
   "id": "e4ea4012",
   "metadata": {},
   "outputs": [
    {
     "data": {
      "text/plain": [
       "[1, 2, 6, 99, 88.0, 66.89, 'True', 'False', True, False]"
      ]
     },
     "execution_count": 214,
     "metadata": {},
     "output_type": "execute_result"
    }
   ],
   "source": [
    "l6[0:99]#wszystkie elementy z listy"
   ]
  },
  {
   "cell_type": "code",
   "execution_count": 215,
   "id": "0df0031f",
   "metadata": {},
   "outputs": [
    {
     "data": {
      "text/plain": [
       "[1, 6, 88.0]"
      ]
     },
     "execution_count": 215,
     "metadata": {},
     "output_type": "execute_result"
    }
   ],
   "source": [
    "l6[0:6:2] #wybieramy zakres od pierwszego do 7 elementu (zakres końcowy nie będzie uwzględniony)\n",
    "          # w interwale co 2, zobaczymy tylko 3 elementy"
   ]
  },
  {
   "cell_type": "code",
   "execution_count": 216,
   "id": "19ade351",
   "metadata": {},
   "outputs": [
    {
     "data": {
      "text/plain": [
       "[1, 2, 6, 99, 88.0, 66.89, 'True', 'False', True]"
      ]
     },
     "execution_count": 216,
     "metadata": {},
     "output_type": "execute_result"
    }
   ],
   "source": [
    "l6[0:9:1]"
   ]
  },
  {
   "cell_type": "code",
   "execution_count": 217,
   "id": "684dc9f7",
   "metadata": {},
   "outputs": [
    {
     "data": {
      "text/plain": [
       "[1, 99, 'True']"
      ]
     },
     "execution_count": 217,
     "metadata": {},
     "output_type": "execute_result"
    }
   ],
   "source": [
    "l6[0:9:3]"
   ]
  },
  {
   "cell_type": "code",
   "execution_count": 218,
   "id": "98575474",
   "metadata": {},
   "outputs": [
    {
     "data": {
      "text/plain": [
       "[1, 2, 6, 99, 88.0, 66.89, 'True', 'False', True, False]"
      ]
     },
     "execution_count": 218,
     "metadata": {},
     "output_type": "execute_result"
    }
   ],
   "source": [
    "l6[0::]"
   ]
  },
  {
   "cell_type": "code",
   "execution_count": 219,
   "id": "e9f7db17",
   "metadata": {},
   "outputs": [
    {
     "data": {
      "text/plain": [
       "[1, 2, 6, 99, 88.0, 66.89, 'True', 'False', True, False]"
      ]
     },
     "execution_count": 219,
     "metadata": {},
     "output_type": "execute_result"
    }
   ],
   "source": [
    "l6[::]"
   ]
  },
  {
   "cell_type": "code",
   "execution_count": 220,
   "id": "6fa3ec84",
   "metadata": {},
   "outputs": [
    {
     "data": {
      "text/plain": [
       "[1, 99, 'True', False]"
      ]
     },
     "execution_count": 220,
     "metadata": {},
     "output_type": "execute_result"
    }
   ],
   "source": [
    "l6[::3]"
   ]
  },
  {
   "cell_type": "markdown",
   "id": "4119aa9e",
   "metadata": {},
   "source": [
    "### Podmiana elementów w liście"
   ]
  },
  {
   "cell_type": "code",
   "execution_count": 221,
   "id": "c1465837",
   "metadata": {},
   "outputs": [
    {
     "name": "stdout",
     "output_type": "stream",
     "text": [
      "[1, 2, 6, 99, 88.0, 66.89, 'True', 'False', True, False]\n",
      "[1, 2, 6, 99, 88.0, 66.89, 'True', 'False', True, False]\n"
     ]
    }
   ],
   "source": [
    "l6=[1,2,6,99,88.00,66.89,\"True\",\"False\",True,False]\n",
    "l7=[1,2,6,99,88.00,66.89,\"True\",\"False\",True,False]\n",
    "print(l6)\n",
    "print(l7)"
   ]
  },
  {
   "cell_type": "code",
   "execution_count": 222,
   "id": "bbfe3895",
   "metadata": {},
   "outputs": [],
   "source": [
    "l7[0]=\"Ala\" #podmiana element po elemencie przez przypisanie\n",
    "l7[1]=\"ma\"\n",
    "l7[2]=\"kota\"\n",
    "l7[3]=\"od\"\n",
    "l7[4]=6\n",
    "l7[5]=\"lat\"\n",
    "l7[6]=\"i\"\n",
    "l7[7]=2.0\n",
    "l7[8]=\"miesiecy\"\n",
    "l7[9]=\".\""
   ]
  },
  {
   "cell_type": "code",
   "execution_count": 223,
   "id": "e7ee08d2",
   "metadata": {},
   "outputs": [
    {
     "name": "stdout",
     "output_type": "stream",
     "text": [
      "[1, 2, 6, 99, 88.0, 66.89, 'True', 'False', True, False]\n",
      "['Ala', 'ma', 'kota', 'od', 6, 'lat', 'i', 2.0, 'miesiecy', '.']\n"
     ]
    }
   ],
   "source": [
    "print(l6)\n",
    "print(l7)"
   ]
  },
  {
   "cell_type": "code",
   "execution_count": 224,
   "id": "3e8402e4",
   "metadata": {},
   "outputs": [
    {
     "name": "stdout",
     "output_type": "stream",
     "text": [
      "[1, 2, 6, 99, 88.0, 66.89, 'True', 'False', True, False]\n",
      "[0, 1, 2, 3, 4, 5, 6, 7, 8, 9]\n"
     ]
    }
   ],
   "source": [
    "l7[0:10]=[0,1,2,3,4,5,6,7,8,9] #podmiana seriami 1\n",
    "print(l6)\n",
    "print(l7)"
   ]
  },
  {
   "cell_type": "code",
   "execution_count": 225,
   "id": "000dad8e",
   "metadata": {},
   "outputs": [
    {
     "name": "stdout",
     "output_type": "stream",
     "text": [
      "[99, 99, 99, 3, 99, 99, 99, 99, 99, 99]\n"
     ]
    }
   ],
   "source": [
    "l7[4:10]=[99,99,99,99,99,99] #podmiana seriami 2\n",
    "l7[0:3]=[99,99,99]\n",
    "print(l7)"
   ]
  },
  {
   "cell_type": "markdown",
   "id": "b89a4a83",
   "metadata": {},
   "source": [
    "### Dowawanie elementów do listy przez przypisanie zakresami (Bardzo ryzykowne - raczej unikać)"
   ]
  },
  {
   "cell_type": "code",
   "execution_count": 226,
   "id": "4923f0db",
   "metadata": {},
   "outputs": [
    {
     "data": {
      "text/plain": [
       "10"
      ]
     },
     "execution_count": 226,
     "metadata": {},
     "output_type": "execute_result"
    }
   ],
   "source": [
    "len(l7) # sprawdzamy długość listy"
   ]
  },
  {
   "cell_type": "code",
   "execution_count": 227,
   "id": "5976db0f",
   "metadata": {},
   "outputs": [
    {
     "name": "stdout",
     "output_type": "stream",
     "text": [
      "[0, 1, 2, 3, 4, 5, 6, 7, 8, 9, 'Test']\n",
      "11\n"
     ]
    }
   ],
   "source": [
    "l7[0:10]=[0,1,2,3,4,5,6,7,8,9,\"Test\"]\n",
    "print(l7)\n",
    "print(len(l7))"
   ]
  },
  {
   "cell_type": "code",
   "execution_count": 228,
   "id": "5c224fb3",
   "metadata": {},
   "outputs": [
    {
     "data": {
      "text/plain": [
       "(0, 1, 2, 3, 4, 5, 6, 7, 8, 9, 'Test')"
      ]
     },
     "execution_count": 228,
     "metadata": {},
     "output_type": "execute_result"
    }
   ],
   "source": [
    "tuple(l7)"
   ]
  },
  {
   "cell_type": "code",
   "execution_count": 229,
   "id": "dcbbc599",
   "metadata": {},
   "outputs": [
    {
     "data": {
      "text/plain": [
       "[0, 1, 2, 3, 4, 5, 6, 7, 8, 9, 'Test']"
      ]
     },
     "execution_count": 229,
     "metadata": {},
     "output_type": "execute_result"
    }
   ],
   "source": [
    "list(tuple(l7))"
   ]
  },
  {
   "cell_type": "markdown",
   "id": "3d959d74",
   "metadata": {},
   "source": [
    "### 3.7 Tuple\n",
    "Praca z tuplami jest bardzo ograniczona mimo iż wyglądają podobnie i różnią się nawiasami względem list.\n",
    "\n",
    "Jakie są różnice między listami a tuplami:\n",
    "- tuple są niezmienialne\n",
    "- tupli nie można sortować\n",
    "- tupli nie można odwracać\n",
    "- iteracja po tuplach jest szybsza\n",
    "- tuple zajmują mniej pamięci niż listy"
   ]
  },
  {
   "cell_type": "code",
   "execution_count": 230,
   "id": "8d60a666",
   "metadata": {},
   "outputs": [],
   "source": [
    "t1=(1,2,6,99,88.00,66.89,\"True\",\"False\",True,False)"
   ]
  },
  {
   "cell_type": "code",
   "execution_count": 231,
   "id": "1402255e",
   "metadata": {},
   "outputs": [
    {
     "name": "stdout",
     "output_type": "stream",
     "text": [
      "(1, 2, 6, 99, 88.0, 66.89, 'True', 'False', True, False)\n",
      "<class 'tuple'>\n",
      "[1, 2, 6, 99, 88.0, 66.89, 'True', 'False', True, False]\n",
      "<class 'list'>\n"
     ]
    }
   ],
   "source": [
    "print(t1)\n",
    "print(type(t1))\n",
    "print(l6)\n",
    "print(type(l6))"
   ]
  },
  {
   "cell_type": "code",
   "execution_count": 232,
   "id": "e624d557",
   "metadata": {},
   "outputs": [
    {
     "ename": "TypeError",
     "evalue": "'tuple' object does not support item assignment",
     "output_type": "error",
     "traceback": [
      "\u001b[1;31m---------------------------------------------------------------------------\u001b[0m",
      "\u001b[1;31mTypeError\u001b[0m                                 Traceback (most recent call last)",
      "Cell \u001b[1;32mIn[232], line 1\u001b[0m\n\u001b[1;32m----> 1\u001b[0m \u001b[43mt1\u001b[49m\u001b[43m[\u001b[49m\u001b[38;5;241;43m0\u001b[39;49m\u001b[43m:\u001b[49m\u001b[38;5;241;43m10\u001b[39;49m\u001b[43m]\u001b[49m\u001b[38;5;241m=\u001b[39m(\u001b[38;5;241m0\u001b[39m,\u001b[38;5;241m1\u001b[39m,\u001b[38;5;241m2\u001b[39m,\u001b[38;5;241m3\u001b[39m,\u001b[38;5;241m4\u001b[39m,\u001b[38;5;241m5\u001b[39m,\u001b[38;5;241m6\u001b[39m,\u001b[38;5;241m7\u001b[39m,\u001b[38;5;241m8\u001b[39m,\u001b[38;5;241m9\u001b[39m)\n\u001b[0;32m      2\u001b[0m \u001b[38;5;28mprint\u001b[39m(t1)\n",
      "\u001b[1;31mTypeError\u001b[0m: 'tuple' object does not support item assignment"
     ]
    }
   ],
   "source": [
    "t1[0:10]=(0,1,2,3,4,5,6,7,8,9)\n",
    "print(t1)"
   ]
  },
  {
   "cell_type": "code",
   "execution_count": 233,
   "id": "6f64571a",
   "metadata": {},
   "outputs": [
    {
     "ename": "TypeError",
     "evalue": "'tuple' object does not support item assignment",
     "output_type": "error",
     "traceback": [
      "\u001b[1;31m---------------------------------------------------------------------------\u001b[0m",
      "\u001b[1;31mTypeError\u001b[0m                                 Traceback (most recent call last)",
      "Cell \u001b[1;32mIn[233], line 1\u001b[0m\n\u001b[1;32m----> 1\u001b[0m \u001b[43mt1\u001b[49m\u001b[43m[\u001b[49m\u001b[38;5;241;43m1\u001b[39;49m\u001b[43m]\u001b[49m\u001b[38;5;241m=\u001b[39m\u001b[38;5;241m2\u001b[39m\n",
      "\u001b[1;31mTypeError\u001b[0m: 'tuple' object does not support item assignment"
     ]
    }
   ],
   "source": [
    "t1[1]=2"
   ]
  },
  {
   "cell_type": "markdown",
   "id": "e8ce1344",
   "metadata": {},
   "source": [
    "### Zamiana tupli na listy i list na tuple"
   ]
  },
  {
   "cell_type": "code",
   "execution_count": 234,
   "id": "2ebd5c26",
   "metadata": {},
   "outputs": [
    {
     "data": {
      "text/plain": [
       "tuple"
      ]
     },
     "execution_count": 234,
     "metadata": {},
     "output_type": "execute_result"
    }
   ],
   "source": [
    "type(t1)"
   ]
  },
  {
   "cell_type": "code",
   "execution_count": 235,
   "id": "d0b0b3c9",
   "metadata": {},
   "outputs": [
    {
     "name": "stdout",
     "output_type": "stream",
     "text": [
      "<class 'list'>\n",
      "[1, 2, 6, 99, 88.0, 66.89, 'True', 'False', True, False]\n"
     ]
    }
   ],
   "source": [
    "l1=list(t1)\n",
    "print(type(l1))\n",
    "print(l1)"
   ]
  },
  {
   "cell_type": "code",
   "execution_count": 236,
   "id": "e7984b10",
   "metadata": {},
   "outputs": [
    {
     "name": "stdout",
     "output_type": "stream",
     "text": [
      "<class 'tuple'>\n",
      "(1, 2, 6, 99, 88.0, 66.89, 'True', 'False', True, False)\n"
     ]
    }
   ],
   "source": [
    "l1=tuple(t1)\n",
    "print(type(l1))\n",
    "print(l1)"
   ]
  },
  {
   "cell_type": "markdown",
   "id": "6cb886fb",
   "metadata": {},
   "source": [
    "### 3.8 Sety\n",
    "Sety stanowią listę \"UNIKALNYCH\" elementów.\n",
    "Podmiana elementów w secie nie jest możliwa można tylko dodawać elementy do setu"
   ]
  },
  {
   "cell_type": "code",
   "execution_count": 237,
   "id": "38a2eda6",
   "metadata": {},
   "outputs": [
    {
     "name": "stdout",
     "output_type": "stream",
     "text": [
      "{1, 2, 3, 4, 5, 22, 44}\n",
      "<class 'set'>\n"
     ]
    }
   ],
   "source": [
    "s1={1,1,2,22,2,2,3,3,44,4,4,5}\n",
    "print(s1)\n",
    "print(type(s1))"
   ]
  },
  {
   "cell_type": "code",
   "execution_count": 238,
   "id": "fadddbb4",
   "metadata": {},
   "outputs": [
    {
     "name": "stdout",
     "output_type": "stream",
     "text": [
      "[1, 1, 2, 22, 2, 2, 3, 3, 44, 4, 4, 5]\n",
      "<class 'list'>\n"
     ]
    }
   ],
   "source": [
    "l1=[1,1,2,22,2,2,3,3,44,4,4,5]\n",
    "print(l1)\n",
    "print(type(l1))"
   ]
  },
  {
   "cell_type": "markdown",
   "id": "03e47943",
   "metadata": {},
   "source": [
    "### Wbudowane metody (działania) na setach"
   ]
  },
  {
   "cell_type": "code",
   "execution_count": 239,
   "id": "26b7fb74",
   "metadata": {},
   "outputs": [
    {
     "name": "stdout",
     "output_type": "stream",
     "text": [
      "{1, 2, 3, 4, 5, 22, 99, 44}\n"
     ]
    }
   ],
   "source": [
    "s1.add(99) # dodanie elementu do setu\n",
    "print(s1)"
   ]
  },
  {
   "cell_type": "code",
   "execution_count": 240,
   "id": "784449b0",
   "metadata": {},
   "outputs": [
    {
     "name": "stdout",
     "output_type": "stream",
     "text": [
      "{1, 2, 3, 4, 5, 22, 44}\n"
     ]
    }
   ],
   "source": [
    "s1.remove(99) # usunięcie elementu z setu \n",
    "print(s1)"
   ]
  },
  {
   "cell_type": "code",
   "execution_count": 241,
   "id": "4cef235b",
   "metadata": {},
   "outputs": [],
   "source": [
    "s2={\"a\",\"b\",\"a\"}"
   ]
  },
  {
   "cell_type": "code",
   "execution_count": 242,
   "id": "a0f84b25",
   "metadata": {},
   "outputs": [
    {
     "name": "stdout",
     "output_type": "stream",
     "text": [
      "{1, 2, 3, 4, 5, 22, 44}\n",
      "{'b', 'a'}\n"
     ]
    }
   ],
   "source": [
    "print(s1)\n",
    "print(s2)"
   ]
  },
  {
   "cell_type": "code",
   "execution_count": 243,
   "id": "46e18e0f",
   "metadata": {},
   "outputs": [
    {
     "name": "stdout",
     "output_type": "stream",
     "text": [
      "{1, 2, 3, 4, 5, 'b', 'a', 44, 22}\n"
     ]
    }
   ],
   "source": [
    "s1.update(s2) # dodanie setów do siebie\n",
    "print(s1)"
   ]
  },
  {
   "cell_type": "code",
   "execution_count": 244,
   "id": "23aaa5e8",
   "metadata": {},
   "outputs": [
    {
     "name": "stdout",
     "output_type": "stream",
     "text": [
      "{2, 3, 4, 5, 'b', 'a', 44, 22}\n"
     ]
    }
   ],
   "source": [
    "s1.pop() # usunięcie pierwszego elementu z setu\n",
    "print(s1)"
   ]
  },
  {
   "cell_type": "code",
   "execution_count": 245,
   "id": "4900596e",
   "metadata": {},
   "outputs": [
    {
     "name": "stdout",
     "output_type": "stream",
     "text": [
      "{2, 3, 4, 'b', 'a', 44, 22}\n"
     ]
    }
   ],
   "source": [
    "s1.remove(5) # usunięcie konkretnego elementu z setu\n",
    "print(s1)"
   ]
  },
  {
   "cell_type": "code",
   "execution_count": 246,
   "id": "087df3ca",
   "metadata": {},
   "outputs": [
    {
     "data": {
      "text/plain": [
       "{2, 22, 3, 4, 44, 'a', 'b'}"
      ]
     },
     "execution_count": 246,
     "metadata": {},
     "output_type": "execute_result"
    }
   ],
   "source": [
    "s1"
   ]
  },
  {
   "cell_type": "code",
   "execution_count": 247,
   "id": "85cff0da",
   "metadata": {},
   "outputs": [
    {
     "data": {
      "text/plain": [
       "{2, 22, 3, 4, 44, 'a', 'b'}"
      ]
     },
     "execution_count": 247,
     "metadata": {},
     "output_type": "execute_result"
    }
   ],
   "source": [
    "s1|s2 # dodanie (złączenie) setów do siebie"
   ]
  },
  {
   "cell_type": "code",
   "execution_count": 248,
   "id": "72f942d4",
   "metadata": {},
   "outputs": [
    {
     "data": {
      "text/plain": [
       "{'a', 'b'}"
      ]
     },
     "execution_count": 248,
     "metadata": {},
     "output_type": "execute_result"
    }
   ],
   "source": [
    "s1&s2 # punkt wspólny setów"
   ]
  },
  {
   "cell_type": "code",
   "execution_count": 249,
   "id": "034c2ccd",
   "metadata": {},
   "outputs": [
    {
     "data": {
      "text/plain": [
       "{2, 3, 4, 22, 44}"
      ]
     },
     "execution_count": 249,
     "metadata": {},
     "output_type": "execute_result"
    }
   ],
   "source": [
    "s1-s2 # różnicowanie setów"
   ]
  },
  {
   "cell_type": "markdown",
   "id": "f93eb10e",
   "metadata": {},
   "source": [
    "### 3.9 Słowniki\n",
    "Słowniki podobnie jak sety zamknięte są w klamrach, aczkolwiek różnicuje je to że są zapisywane chronologicznie wraz z zapisem pary którym jest klucz oraz wartość.\n"
   ]
  },
  {
   "cell_type": "code",
   "execution_count": 250,
   "id": "71689fd9",
   "metadata": {},
   "outputs": [
    {
     "name": "stdout",
     "output_type": "stream",
     "text": [
      "{1: 'a', 2: 'b', 3: 'c', 4: 'd'}\n",
      "<class 'dict'>\n"
     ]
    }
   ],
   "source": [
    "sl1={1:\"a\",2:\"b\",3:\"c\",4:\"d\"}\n",
    "print(sl1)\n",
    "print(type(sl1))"
   ]
  },
  {
   "cell_type": "code",
   "execution_count": 251,
   "id": "22bac32a",
   "metadata": {},
   "outputs": [
    {
     "name": "stdout",
     "output_type": "stream",
     "text": [
      "{'b', 'd', 'c', 'a'}\n",
      "<class 'set'>\n"
     ]
    }
   ],
   "source": [
    "s1={\"a\",\"b\",\"c\",\"d\"}\n",
    "print(s1)\n",
    "print(type(s1))"
   ]
  },
  {
   "cell_type": "markdown",
   "id": "30fbe97b",
   "metadata": {},
   "source": [
    "### Wbudowane metody (działania) na słownikach"
   ]
  },
  {
   "cell_type": "code",
   "execution_count": 252,
   "id": "91cb0576",
   "metadata": {},
   "outputs": [
    {
     "name": "stdout",
     "output_type": "stream",
     "text": [
      "a\n",
      "c\n"
     ]
    }
   ],
   "source": [
    "print(sl1[1]) # wybieranie elementów\n",
    "print(sl1[3])"
   ]
  },
  {
   "cell_type": "code",
   "execution_count": 253,
   "id": "c9071a2f",
   "metadata": {},
   "outputs": [],
   "source": [
    "sl2={5:\"a\",6:8} "
   ]
  },
  {
   "cell_type": "code",
   "execution_count": 254,
   "id": "71ed376a",
   "metadata": {},
   "outputs": [
    {
     "name": "stdout",
     "output_type": "stream",
     "text": [
      "{1: 'a', 2: 'b', 3: 'c', 4: 'd', 5: 'a', 6: 8}\n"
     ]
    }
   ],
   "source": [
    "sl1.update(sl2) # dodawanie elementów do słownika\n",
    "print(sl1)"
   ]
  },
  {
   "cell_type": "code",
   "execution_count": 255,
   "id": "336a6cce",
   "metadata": {},
   "outputs": [
    {
     "name": "stdout",
     "output_type": "stream",
     "text": [
      "{1: 'a', 2: 'b', 3: 'c', 4: 'd', 5: 'a', 6: 8, 11: 'x', 12: 'y'}\n"
     ]
    }
   ],
   "source": [
    "sl1.update([(11,\"x\"),(12,\"y\")]) # dodawanie elementów do słownika przez tuple\n",
    "print(sl1)"
   ]
  },
  {
   "cell_type": "code",
   "execution_count": 256,
   "id": "6bfe2796",
   "metadata": {},
   "outputs": [],
   "source": [
    "sl3={1:\"a\",2:8}"
   ]
  },
  {
   "cell_type": "code",
   "execution_count": 257,
   "id": "543648f0",
   "metadata": {},
   "outputs": [
    {
     "name": "stdout",
     "output_type": "stream",
     "text": [
      "{1: 'a', 2: 8, 3: 'c', 4: 'd', 5: 'a', 6: 8, 11: 'x', 12: 'y'}\n"
     ]
    }
   ],
   "source": [
    "sl1.update(sl3) # nadpisanie elementów słownika\n",
    "print(sl1)"
   ]
  },
  {
   "cell_type": "code",
   "execution_count": 258,
   "id": "a25b6f2b",
   "metadata": {},
   "outputs": [
    {
     "data": {
      "text/plain": [
       "dict_keys([1, 2, 3, 4, 5, 6, 11, 12])"
      ]
     },
     "execution_count": 258,
     "metadata": {},
     "output_type": "execute_result"
    }
   ],
   "source": [
    "sl1.keys() # listowanie kluczy"
   ]
  },
  {
   "cell_type": "code",
   "execution_count": 259,
   "id": "f23a03ae",
   "metadata": {},
   "outputs": [
    {
     "data": {
      "text/plain": [
       "dict_values(['a', 8, 'c', 'd', 'a', 8, 'x', 'y'])"
      ]
     },
     "execution_count": 259,
     "metadata": {},
     "output_type": "execute_result"
    }
   ],
   "source": [
    "sl1.values()"
   ]
  },
  {
   "cell_type": "code",
   "execution_count": 260,
   "id": "dc366c7e",
   "metadata": {},
   "outputs": [
    {
     "data": {
      "text/plain": [
       "dict_items([(1, 'a'), (2, 8), (3, 'c'), (4, 'd'), (5, 'a'), (6, 8), (11, 'x'), (12, 'y')])"
      ]
     },
     "execution_count": 260,
     "metadata": {},
     "output_type": "execute_result"
    }
   ],
   "source": [
    "sl1.items()"
   ]
  },
  {
   "cell_type": "code",
   "execution_count": 261,
   "id": "c8a84c01",
   "metadata": {},
   "outputs": [
    {
     "data": {
      "text/plain": [
       "'d'"
      ]
     },
     "execution_count": 261,
     "metadata": {},
     "output_type": "execute_result"
    }
   ],
   "source": [
    "sl1.get(4) # pobieranie elementu ze słownika wg klucza"
   ]
  },
  {
   "cell_type": "code",
   "execution_count": 262,
   "id": "d7449029",
   "metadata": {},
   "outputs": [
    {
     "name": "stdout",
     "output_type": "stream",
     "text": [
      "{2: 8, 3: 'c', 4: 'd', 5: 'a', 6: 8, 11: 'x', 12: 'y'}\n"
     ]
    }
   ],
   "source": [
    "sl1.pop(1) # usuwanie elementu wg klucza\n",
    "print(sl1)"
   ]
  },
  {
   "cell_type": "markdown",
   "id": "71f9e2e3",
   "metadata": {},
   "source": [
    "### 3.10 Porównania i Booleany\n",
    "Ekwiwalentem True jest 1 natomiast False jest 0"
   ]
  },
  {
   "cell_type": "code",
   "execution_count": 263,
   "id": "0e0d65c1",
   "metadata": {},
   "outputs": [],
   "source": [
    "a=6\n",
    "b=7\n",
    "c=11\n",
    "d=True\n",
    "f=False"
   ]
  },
  {
   "cell_type": "code",
   "execution_count": 264,
   "id": "3f8321d3",
   "metadata": {},
   "outputs": [
    {
     "data": {
      "text/plain": [
       "False"
      ]
     },
     "execution_count": 264,
     "metadata": {},
     "output_type": "execute_result"
    }
   ],
   "source": [
    "a == b # równe"
   ]
  },
  {
   "cell_type": "code",
   "execution_count": 265,
   "id": "319879a6",
   "metadata": {},
   "outputs": [
    {
     "data": {
      "text/plain": [
       "True"
      ]
     },
     "execution_count": 265,
     "metadata": {},
     "output_type": "execute_result"
    }
   ],
   "source": [
    "a == a"
   ]
  },
  {
   "cell_type": "code",
   "execution_count": 266,
   "id": "8bdf0b0f",
   "metadata": {},
   "outputs": [
    {
     "data": {
      "text/plain": [
       "True"
      ]
     },
     "execution_count": 266,
     "metadata": {},
     "output_type": "execute_result"
    }
   ],
   "source": [
    "a != b # różne"
   ]
  },
  {
   "cell_type": "code",
   "execution_count": 267,
   "id": "26cd978f",
   "metadata": {},
   "outputs": [
    {
     "data": {
      "text/plain": [
       "False"
      ]
     },
     "execution_count": 267,
     "metadata": {},
     "output_type": "execute_result"
    }
   ],
   "source": [
    "a > b"
   ]
  },
  {
   "cell_type": "code",
   "execution_count": 268,
   "id": "7d64aabe",
   "metadata": {},
   "outputs": [
    {
     "data": {
      "text/plain": [
       "True"
      ]
     },
     "execution_count": 268,
     "metadata": {},
     "output_type": "execute_result"
    }
   ],
   "source": [
    "a < b"
   ]
  },
  {
   "cell_type": "code",
   "execution_count": 269,
   "id": "1f99f0ce",
   "metadata": {},
   "outputs": [
    {
     "data": {
      "text/plain": [
       "True"
      ]
     },
     "execution_count": 269,
     "metadata": {},
     "output_type": "execute_result"
    }
   ],
   "source": [
    "a*b < c+c+c*2"
   ]
  },
  {
   "cell_type": "markdown",
   "id": "e961111e",
   "metadata": {},
   "source": [
    "### 3.11 Operatory logiczne"
   ]
  },
  {
   "cell_type": "code",
   "execution_count": 270,
   "id": "efa36ccb",
   "metadata": {},
   "outputs": [
    {
     "data": {
      "text/plain": [
       "1"
      ]
     },
     "execution_count": 270,
     "metadata": {},
     "output_type": "execute_result"
    }
   ],
   "source": [
    "1 and 1 # operator \"i\""
   ]
  },
  {
   "cell_type": "code",
   "execution_count": 271,
   "id": "ad55c0f1",
   "metadata": {},
   "outputs": [
    {
     "data": {
      "text/plain": [
       "True"
      ]
     },
     "execution_count": 271,
     "metadata": {},
     "output_type": "execute_result"
    }
   ],
   "source": [
    "True & True # operator \"i\""
   ]
  },
  {
   "cell_type": "code",
   "execution_count": 272,
   "id": "0e63ca7e",
   "metadata": {},
   "outputs": [
    {
     "data": {
      "text/plain": [
       "False"
      ]
     },
     "execution_count": 272,
     "metadata": {},
     "output_type": "execute_result"
    }
   ],
   "source": [
    "(1<2) & (1>3)"
   ]
  },
  {
   "cell_type": "code",
   "execution_count": 273,
   "id": "59b82754",
   "metadata": {},
   "outputs": [
    {
     "data": {
      "text/plain": [
       "False"
      ]
     },
     "execution_count": 273,
     "metadata": {},
     "output_type": "execute_result"
    }
   ],
   "source": [
    "False or False # operator \"lub\" "
   ]
  },
  {
   "cell_type": "code",
   "execution_count": 274,
   "id": "5ed37322",
   "metadata": {},
   "outputs": [
    {
     "data": {
      "text/plain": [
       "True"
      ]
     },
     "execution_count": 274,
     "metadata": {},
     "output_type": "execute_result"
    }
   ],
   "source": [
    "True or False "
   ]
  },
  {
   "cell_type": "code",
   "execution_count": 275,
   "id": "77d846d6",
   "metadata": {},
   "outputs": [
    {
     "data": {
      "text/plain": [
       "True"
      ]
     },
     "execution_count": 275,
     "metadata": {},
     "output_type": "execute_result"
    }
   ],
   "source": [
    "True | False # operator \"lub\" "
   ]
  },
  {
   "cell_type": "code",
   "execution_count": 276,
   "id": "3be6199e",
   "metadata": {},
   "outputs": [
    {
     "data": {
      "text/plain": [
       "False"
      ]
     },
     "execution_count": 276,
     "metadata": {},
     "output_type": "execute_result"
    }
   ],
   "source": [
    "not 1 # operator \"nie/inny\""
   ]
  },
  {
   "cell_type": "code",
   "execution_count": 277,
   "id": "bdfba326",
   "metadata": {},
   "outputs": [
    {
     "data": {
      "text/plain": [
       "True"
      ]
     },
     "execution_count": 277,
     "metadata": {},
     "output_type": "execute_result"
    }
   ],
   "source": [
    "not False"
   ]
  },
  {
   "cell_type": "code",
   "execution_count": 278,
   "id": "cb497465",
   "metadata": {},
   "outputs": [
    {
     "data": {
      "text/plain": [
       "True"
      ]
     },
     "execution_count": 278,
     "metadata": {},
     "output_type": "execute_result"
    }
   ],
   "source": [
    "not((not(9 < 22)) | (37 > 200))"
   ]
  },
  {
   "cell_type": "markdown",
   "id": "630a96f1",
   "metadata": {},
   "source": [
    "### 3.12 Instrukcje warunkowe (if, elif,else)"
   ]
  },
  {
   "cell_type": "code",
   "execution_count": 279,
   "id": "20d16f41",
   "metadata": {},
   "outputs": [],
   "source": [
    "a=2\n",
    "b=3\n",
    "c=5"
   ]
  },
  {
   "cell_type": "code",
   "execution_count": 280,
   "id": "933afe58",
   "metadata": {},
   "outputs": [
    {
     "name": "stdout",
     "output_type": "stream",
     "text": [
      "Tak to prawda\n"
     ]
    }
   ],
   "source": [
    "if a < b:                      # jeżeli\n",
    "    print(\"Tak to prawda\")\n",
    "else:                          # w przeciwnym razie\n",
    "    print(\"Nie to nieprawda\")"
   ]
  },
  {
   "cell_type": "code",
   "execution_count": 281,
   "id": "469065d1",
   "metadata": {},
   "outputs": [
    {
     "name": "stdout",
     "output_type": "stream",
     "text": [
      "Tak to prawda\n"
     ]
    }
   ],
   "source": [
    "if a > b:                      # jeżeli\n",
    "    print(\"Tak to prawda\")\n",
    "elif a+b==c:                   # jeżeli od drugiej i kolejnej iteracji\n",
    "    print(\"Tak to prawda\")\n",
    "else:                          # w przeciwnym razie\n",
    "    print(\"Nie to nieprawda\")"
   ]
  },
  {
   "cell_type": "code",
   "execution_count": 282,
   "id": "6c62fe91",
   "metadata": {},
   "outputs": [],
   "source": [
    "ilość = 140\n",
    "zniżka = 0\n",
    "cena = 50"
   ]
  },
  {
   "cell_type": "code",
   "execution_count": 283,
   "id": "da630be9",
   "metadata": {},
   "outputs": [
    {
     "name": "stdout",
     "output_type": "stream",
     "text": [
      "Nowa cena to 35.0\n"
     ]
    }
   ],
   "source": [
    "if ilość>100 and ilość < 110:\n",
    "    zniżka = 0.1\n",
    "    cena = cena -(cena * zniżka)\n",
    "    print(\"Nowa cena to {}\".format(cena))\n",
    "elif ilość>=110 and ilość<120:\n",
    "    zniżka = 0.2\n",
    "    cena = cena -(cena * zniżka)\n",
    "    print(\"Nowa cena to {}\".format(cena))\n",
    "elif ilość>=120:\n",
    "    zniżka = 0.3\n",
    "    cena = cena -(cena * zniżka)\n",
    "    print(\"Nowa cena to {}\".format(cena)) \n",
    "else:\n",
    "    print(\"Brak zniżki\")"
   ]
  },
  {
   "cell_type": "markdown",
   "id": "a8ac832c",
   "metadata": {},
   "source": [
    "### 3.13 Pętle (while, for loops)"
   ]
  },
  {
   "cell_type": "markdown",
   "id": "d4241bb8",
   "metadata": {},
   "source": [
    "### while - wykonuje się do zadeklarowanej ilości wystąpień"
   ]
  },
  {
   "cell_type": "code",
   "execution_count": 284,
   "id": "68560309",
   "metadata": {},
   "outputs": [
    {
     "name": "stdout",
     "output_type": "stream",
     "text": [
      "1\n",
      "2\n",
      "3\n",
      "4\n",
      "5\n",
      "6\n",
      "7\n",
      "8\n",
      "9\n",
      "10\n",
      "11\n",
      "12\n",
      "13\n",
      "14\n",
      "15\n",
      "16\n",
      "17\n",
      "18\n",
      "19\n",
      "20\n",
      "21\n",
      "22\n",
      "23\n",
      "24\n",
      "25\n",
      "26\n",
      "27\n",
      "28\n",
      "29\n",
      "30\n",
      "31\n",
      "32\n",
      "33\n",
      "34\n",
      "35\n",
      "36\n",
      "37\n",
      "38\n",
      "39\n",
      "40\n",
      "41\n",
      "42\n",
      "43\n",
      "44\n",
      "45\n",
      "46\n",
      "47\n",
      "48\n",
      "49\n",
      "50\n",
      "51\n",
      "52\n",
      "53\n",
      "54\n",
      "55\n",
      "56\n",
      "57\n",
      "58\n",
      "59\n",
      "60\n",
      "61\n",
      "62\n",
      "63\n",
      "64\n",
      "65\n",
      "66\n",
      "67\n",
      "68\n",
      "69\n",
      "70\n",
      "71\n",
      "72\n",
      "73\n",
      "74\n",
      "75\n",
      "76\n",
      "77\n",
      "78\n",
      "79\n",
      "80\n",
      "81\n",
      "82\n",
      "83\n",
      "84\n",
      "85\n",
      "86\n",
      "87\n",
      "88\n",
      "89\n",
      "90\n",
      "91\n",
      "92\n",
      "93\n",
      "94\n",
      "95\n",
      "96\n",
      "97\n",
      "98\n",
      "99\n",
      "100\n"
     ]
    }
   ],
   "source": [
    "a=0\n",
    "while a <100:\n",
    "    a = a+1\n",
    "    print(a)"
   ]
  },
  {
   "cell_type": "code",
   "execution_count": 285,
   "id": "78a2d67a",
   "metadata": {},
   "outputs": [
    {
     "name": "stdout",
     "output_type": "stream",
     "text": [
      "11\n",
      "12\n",
      "13\n",
      "14\n",
      "15\n",
      "16\n",
      "17\n",
      "18\n",
      "19\n",
      "20\n",
      "21\n",
      "22\n",
      "23\n",
      "24\n",
      "25\n",
      "26\n",
      "27\n",
      "28\n",
      "29\n",
      "30\n"
     ]
    }
   ],
   "source": [
    "a=10\n",
    "while a <30:\n",
    "    a = a+1\n",
    "    print(a)"
   ]
  },
  {
   "cell_type": "code",
   "execution_count": 286,
   "id": "51328dd5",
   "metadata": {},
   "outputs": [
    {
     "name": "stdout",
     "output_type": "stream",
     "text": [
      "Wieksze od 50\n",
      "Wieksze od 50\n",
      "Wieksze od 50\n",
      "Wieksze od 50\n",
      "Wieksze od 50\n",
      "Wieksze od 50\n",
      "Wieksze od 50\n",
      "Wieksze od 50\n",
      "Wieksze od 50\n",
      "Wieksze od 50\n",
      "Wieksze od 50\n"
     ]
    }
   ],
   "source": [
    "a=89\n",
    "while a <100:\n",
    "    a = a + 1\n",
    "    if a < 5:\n",
    "        print(\"Mniejsze od 5\")\n",
    "    elif a >= 5 and a < 50:\n",
    "        print(\"Przedział 5-50\")\n",
    "    else:\n",
    "        print(\"Wieksze od 50\")"
   ]
  },
  {
   "cell_type": "markdown",
   "id": "5b2b3772",
   "metadata": {},
   "source": [
    "### for - wykonuje się dla zadeklarowanej ilości wystąpień, przeważnie w jakimś zestawie danych"
   ]
  },
  {
   "cell_type": "code",
   "execution_count": 287,
   "id": "d5e7dc5e",
   "metadata": {},
   "outputs": [
    {
     "name": "stdout",
     "output_type": "stream",
     "text": [
      "[5, 2, 3, 4, 5, 6]\n"
     ]
    }
   ],
   "source": [
    "a = [5,2,3,4,5,6]\n",
    "a=a*1\n",
    "print(a)"
   ]
  },
  {
   "cell_type": "code",
   "execution_count": 288,
   "id": "8c0d367d",
   "metadata": {},
   "outputs": [
    {
     "name": "stdout",
     "output_type": "stream",
     "text": [
      "[5, 2, 3, 4, 5, 6]\n",
      "[5, 2, 3, 4, 5, 6]\n",
      "[5, 2, 3, 4, 5, 6]\n",
      "[5, 2, 3, 4, 5, 6]\n",
      "[5, 2, 3, 4, 5, 6]\n",
      "[5, 2, 3, 4, 5, 6]\n"
     ]
    }
   ],
   "source": [
    "for i in a:\n",
    "    print(a)"
   ]
  },
  {
   "cell_type": "code",
   "execution_count": 289,
   "id": "f32701bf",
   "metadata": {},
   "outputs": [
    {
     "name": "stdout",
     "output_type": "stream",
     "text": [
      "5\n",
      "2\n",
      "3\n",
      "4\n",
      "5\n",
      "6\n"
     ]
    }
   ],
   "source": [
    "for i in a:\n",
    "    print(i)"
   ]
  },
  {
   "cell_type": "code",
   "execution_count": 290,
   "id": "4c511231",
   "metadata": {},
   "outputs": [
    {
     "name": "stdout",
     "output_type": "stream",
     "text": [
      "5\n",
      "7\n",
      "10\n",
      "14\n",
      "19\n",
      "25\n"
     ]
    }
   ],
   "source": [
    "b=0\n",
    "for i in a:\n",
    "    b += i\n",
    "    print(b)"
   ]
  },
  {
   "cell_type": "code",
   "execution_count": 291,
   "id": "eb70822a",
   "metadata": {},
   "outputs": [
    {
     "data": {
      "text/plain": [
       "3"
      ]
     },
     "execution_count": 291,
     "metadata": {},
     "output_type": "execute_result"
    }
   ],
   "source": [
    "6 // 2"
   ]
  },
  {
   "cell_type": "code",
   "execution_count": 292,
   "id": "39eb1f19",
   "metadata": {},
   "outputs": [
    {
     "name": "stdout",
     "output_type": "stream",
     "text": [
      "2\n",
      "4\n",
      "6\n"
     ]
    }
   ],
   "source": [
    "for i in a:\n",
    "    if i/2 == round(i/2):\n",
    "        print(i)"
   ]
  },
  {
   "cell_type": "code",
   "execution_count": 293,
   "id": "8cd83c6e",
   "metadata": {},
   "outputs": [],
   "source": [
    "lista1=[]\n",
    "lista2=[]\n",
    "lista3=[1,2,3,4,5,6]\n",
    "\n",
    "for i in lista3:\n",
    "    if i/2 == round(i/2):\n",
    "        lista1.append(i)\n",
    "    else:\n",
    "        lista2.append(i)"
   ]
  },
  {
   "cell_type": "code",
   "execution_count": 294,
   "id": "a6338fd6",
   "metadata": {},
   "outputs": [
    {
     "name": "stdout",
     "output_type": "stream",
     "text": [
      "[2, 4, 6]\n",
      "[1, 3, 5]\n",
      "[1, 2, 3, 4, 5, 6]\n"
     ]
    }
   ],
   "source": [
    "print(lista1)\n",
    "print(lista2)\n",
    "print(lista3)"
   ]
  },
  {
   "cell_type": "markdown",
   "id": "8852a92a",
   "metadata": {},
   "source": [
    "### 3.14 Funkcje własne (User defined functions)\n",
    "Funkcje tworzymy przez element definiujący \"def\" i element który będzie zwracać wynik \"return\""
   ]
  },
  {
   "cell_type": "code",
   "execution_count": 295,
   "id": "1c4e1c92",
   "metadata": {},
   "outputs": [],
   "source": [
    "def mnozenie1(x,z): # funkcja mnożąca 2 argumenty\n",
    "    wynik=x*z\n",
    "    return wynik"
   ]
  },
  {
   "cell_type": "code",
   "execution_count": 298,
   "id": "a2a1fdea",
   "metadata": {},
   "outputs": [
    {
     "data": {
      "text/plain": [
       "2"
      ]
     },
     "execution_count": 298,
     "metadata": {},
     "output_type": "execute_result"
    }
   ],
   "source": [
    "mnozenie1(1,2)"
   ]
  },
  {
   "cell_type": "code",
   "execution_count": 299,
   "id": "606cc7dc",
   "metadata": {},
   "outputs": [],
   "source": [
    "def mnozenie2(x,z): # funkcja mnożąca 2 argumenty\n",
    "    return x*z"
   ]
  },
  {
   "cell_type": "code",
   "execution_count": 300,
   "id": "69adcb07",
   "metadata": {},
   "outputs": [
    {
     "data": {
      "text/plain": [
       "12"
      ]
     },
     "execution_count": 300,
     "metadata": {},
     "output_type": "execute_result"
    }
   ],
   "source": [
    "mnozenie2(2,6)"
   ]
  },
  {
   "cell_type": "code",
   "execution_count": 301,
   "id": "4946f05b",
   "metadata": {},
   "outputs": [],
   "source": [
    "lista1=[1,2,3,4,5,6,7,8,9,10]"
   ]
  },
  {
   "cell_type": "code",
   "execution_count": 302,
   "id": "d6093ebb",
   "metadata": {},
   "outputs": [],
   "source": [
    "def srednia(x):\n",
    "    a = sum(x)\n",
    "    b = len(x)\n",
    "    sred = a/b\n",
    "    return sred"
   ]
  },
  {
   "cell_type": "code",
   "execution_count": 303,
   "id": "146d1e0f",
   "metadata": {},
   "outputs": [
    {
     "data": {
      "text/plain": [
       "float"
      ]
     },
     "execution_count": 303,
     "metadata": {},
     "output_type": "execute_result"
    }
   ],
   "source": [
    "type(srednia(lista1))"
   ]
  },
  {
   "cell_type": "code",
   "execution_count": 304,
   "id": "ffe9945e",
   "metadata": {},
   "outputs": [],
   "source": [
    "def konwerterFloatowIntigerowNaStringi(x):\n",
    "    if type(x)==float:\n",
    "        return str(x)\n",
    "    elif type(x)==int:\n",
    "        return str(x)\n",
    "    elif type(x)==str:\n",
    "        return print(\"Nie ma potrzeby konwersji, pozostaje {}\".format(x))"
   ]
  },
  {
   "cell_type": "code",
   "execution_count": 305,
   "id": "85c767a4",
   "metadata": {},
   "outputs": [
    {
     "data": {
      "text/plain": [
       "'64'"
      ]
     },
     "execution_count": 305,
     "metadata": {},
     "output_type": "execute_result"
    }
   ],
   "source": [
    "konwerterFloatowIntigerowNaStringi(64)"
   ]
  },
  {
   "cell_type": "code",
   "execution_count": 306,
   "id": "0c3bff86",
   "metadata": {},
   "outputs": [],
   "source": [
    "def podstawowefunkcjematematyczne(x,y):\n",
    "    dodawanie = x+y\n",
    "    odejmowanie = x-y\n",
    "    mnozenie = x*y\n",
    "    dzielenie = x/y\n",
    "    return dodawanie,odejmowanie,mnozenie,dzielenie"
   ]
  },
  {
   "cell_type": "code",
   "execution_count": 307,
   "id": "458f9839",
   "metadata": {},
   "outputs": [
    {
     "data": {
      "text/plain": [
       "(72, 56, 512, 8.0)"
      ]
     },
     "execution_count": 307,
     "metadata": {},
     "output_type": "execute_result"
    }
   ],
   "source": [
    "podstawowefunkcjematematyczne(64,8)"
   ]
  },
  {
   "cell_type": "code",
   "execution_count": 308,
   "id": "63156a04",
   "metadata": {},
   "outputs": [],
   "source": [
    "a = konwerterFloatowIntigerowNaStringi(65)"
   ]
  },
  {
   "cell_type": "code",
   "execution_count": 309,
   "id": "b8beb39b",
   "metadata": {},
   "outputs": [
    {
     "name": "stdout",
     "output_type": "stream",
     "text": [
      "65\n",
      "<class 'str'>\n"
     ]
    }
   ],
   "source": [
    "print(a)\n",
    "print(type(a))"
   ]
  },
  {
   "cell_type": "code",
   "execution_count": 310,
   "id": "a4a2c8ef",
   "metadata": {},
   "outputs": [],
   "source": [
    "l = [1,2,3,\"bak\",4,\"płot\"]"
   ]
  },
  {
   "cell_type": "code",
   "execution_count": 311,
   "id": "85c63755",
   "metadata": {},
   "outputs": [],
   "source": [
    "def expadnerlist(lista,dodatkowyelement):\n",
    "    return lista.append(dodatkowyelement)"
   ]
  },
  {
   "cell_type": "code",
   "execution_count": 312,
   "id": "9ca09bdd",
   "metadata": {},
   "outputs": [
    {
     "name": "stdout",
     "output_type": "stream",
     "text": [
      "[1, 2, 3, 'bak', 4, 'płot', 6]\n"
     ]
    }
   ],
   "source": [
    "expadnerlist(l,6)\n",
    "print(l)"
   ]
  },
  {
   "cell_type": "markdown",
   "id": "e1d6dbb8",
   "metadata": {},
   "source": [
    "### 3.15 Podstawowa obsługa błędów\n",
    "Podstawową obsługę błędów wykonujemy używają \"try\" i \"except\""
   ]
  },
  {
   "cell_type": "code",
   "execution_count": 313,
   "id": "1d9b7892",
   "metadata": {},
   "outputs": [],
   "source": [
    "def podstawowefunkcjematematyczne(x,y):\n",
    "    try:\n",
    "        dodawanie = x+y\n",
    "        odejmowanie = x-y\n",
    "        mnozenie = x*y\n",
    "        dzielenie = x/y\n",
    "        return dodawanie,odejmowanie,mnozenie,dzielenie\n",
    "    except:\n",
    "        print(\"W funkcji musiał pojawić się parametr niezgodny z obsługą funkcji matematycznych\")"
   ]
  },
  {
   "cell_type": "code",
   "execution_count": 314,
   "id": "da070f7b",
   "metadata": {},
   "outputs": [
    {
     "name": "stdout",
     "output_type": "stream",
     "text": [
      "W funkcji musiał pojawić się parametr niezgodny z obsługą funkcji matematycznych\n"
     ]
    }
   ],
   "source": [
    "podstawowefunkcjematematyczne(\"1\",2)"
   ]
  }
 ],
 "metadata": {
  "kernelspec": {
   "display_name": "Python 3 (ipykernel)",
   "language": "python",
   "name": "python3"
  },
  "language_info": {
   "codemirror_mode": {
    "name": "ipython",
    "version": 3
   },
   "file_extension": ".py",
   "mimetype": "text/x-python",
   "name": "python",
   "nbconvert_exporter": "python",
   "pygments_lexer": "ipython3",
   "version": "3.11.2"
  }
 },
 "nbformat": 4,
 "nbformat_minor": 5
}
